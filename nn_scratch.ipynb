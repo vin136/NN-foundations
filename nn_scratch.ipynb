{
  "nbformat": 4,
  "nbformat_minor": 0,
  "metadata": {
    "colab": {
      "provenance": [],
      "authorship_tag": "ABX9TyNa/am/yWnmLkwKn0bybc9o",
      "include_colab_link": true
    },
    "kernelspec": {
      "name": "python3",
      "display_name": "Python 3"
    },
    "language_info": {
      "name": "python"
    }
  },
  "cells": [
    {
      "cell_type": "markdown",
      "metadata": {
        "id": "view-in-github",
        "colab_type": "text"
      },
      "source": [
        "<a href=\"https://colab.research.google.com/github/vin136/NN-foundations/blob/main/nn_scratch.ipynb\" target=\"_parent\"><img src=\"https://colab.research.google.com/assets/colab-badge.svg\" alt=\"Open In Colab\"/></a>"
      ]
    },
    {
      "cell_type": "code",
      "execution_count": 10,
      "metadata": {
        "id": "_7ldmqEWtIp1"
      },
      "outputs": [],
      "source": [
        "import numpy as np\n",
        "import matplotlib.pyplot as plt\n"
      ]
    },
    {
      "cell_type": "code",
      "source": [
        "# 1. function and it's derivative\n",
        "def f(x):\n",
        "  return 3*(x**2) + 2\n"
      ],
      "metadata": {
        "id": "XaSzrtXitMKh"
      },
      "execution_count": 2,
      "outputs": []
    },
    {
      "cell_type": "code",
      "source": [
        "f(2)"
      ],
      "metadata": {
        "colab": {
          "base_uri": "https://localhost:8080/"
        },
        "id": "9an0ZYTW3BbU",
        "outputId": "34bd26ec-9497-4d32-f0f6-45b07e2bc2bf"
      },
      "execution_count": 3,
      "outputs": [
        {
          "output_type": "execute_result",
          "data": {
            "text/plain": [
              "14"
            ]
          },
          "metadata": {},
          "execution_count": 3
        }
      ]
    },
    {
      "cell_type": "code",
      "source": [
        "inputs_ = np.arange(-5,5,0.5)\n",
        "inputs_"
      ],
      "metadata": {
        "colab": {
          "base_uri": "https://localhost:8080/"
        },
        "id": "NedXSSHS3CUt",
        "outputId": "508243a0-536a-4129-a71c-608fffd2fdfc"
      },
      "execution_count": 6,
      "outputs": [
        {
          "output_type": "execute_result",
          "data": {
            "text/plain": [
              "array([-5. , -4.5, -4. , -3.5, -3. , -2.5, -2. , -1.5, -1. , -0.5,  0. ,\n",
              "        0.5,  1. ,  1.5,  2. ,  2.5,  3. ,  3.5,  4. ,  4.5])"
            ]
          },
          "metadata": {},
          "execution_count": 6
        }
      ]
    },
    {
      "cell_type": "code",
      "source": [
        "y = f(inputs_)\n",
        "y"
      ],
      "metadata": {
        "colab": {
          "base_uri": "https://localhost:8080/"
        },
        "id": "BgMkwUZ93Lzg",
        "outputId": "b3982ea0-9d25-417d-de20-9024918bf039"
      },
      "execution_count": 8,
      "outputs": [
        {
          "output_type": "execute_result",
          "data": {
            "text/plain": [
              "array([77.  , 62.75, 50.  , 38.75, 29.  , 20.75, 14.  ,  8.75,  5.  ,\n",
              "        2.75,  2.  ,  2.75,  5.  ,  8.75, 14.  , 20.75, 29.  , 38.75,\n",
              "       50.  , 62.75])"
            ]
          },
          "metadata": {},
          "execution_count": 8
        }
      ]
    },
    {
      "cell_type": "code",
      "source": [
        "plt.plot(inputs_,y)"
      ],
      "metadata": {
        "colab": {
          "base_uri": "https://localhost:8080/",
          "height": 285
        },
        "id": "zSVjxc1T3VtA",
        "outputId": "03a4df32-9d4f-4a2a-f456-5868f99fa9ee"
      },
      "execution_count": 11,
      "outputs": [
        {
          "output_type": "execute_result",
          "data": {
            "text/plain": [
              "[<matplotlib.lines.Line2D at 0x7f822e78cc10>]"
            ]
          },
          "metadata": {},
          "execution_count": 11
        },
        {
          "output_type": "display_data",
          "data": {
            "text/plain": [
              "<Figure size 432x288 with 1 Axes>"
            ],
            "image/png": "[encoded data removed]"
          },
          "metadata": {
            "needs_background": "light"
          }
        }
      ]
    },
    {
      "cell_type": "code",
      "source": [
        "# derivative at a point dy/dx at x = 2\n",
        "x = 2\n",
        "h = 0.00001\n",
        "(f(x+h)-f(x))/h\n",
        "\n",
        "#verify this manually 6*x at (x= 2)"
      ],
      "metadata": {
        "colab": {
          "base_uri": "https://localhost:8080/"
        },
        "id": "mQGY9Z-N3dU6",
        "outputId": "8facb07c-6aac-4902-cf6d-c4019beb15c1"
      },
      "execution_count": 12,
      "outputs": [
        {
          "output_type": "execute_result",
          "data": {
            "text/plain": [
              "12.000030000081095"
            ]
          },
          "metadata": {},
          "execution_count": 12
        }
      ]
    },
    {
      "cell_type": "code",
      "source": [
        "\n",
        "a = 2\n",
        "b = 3\n",
        "\n",
        "#derivative of arbitrary mathematical expressions\n",
        "\n",
        "c = a*b + 1\n",
        "\n",
        "#whats dc/da => when i nudge a by little bit what's the effect on c\n",
        "#let's numerically derive it\n",
        "\n",
        "h = 0.00001\n",
        "\n",
        "(((a+h)*b + 1) - (a*b+1))/h\n",
        "\n",
        "d = c + b\n",
        "L = d**2\n",
        "\n",
        "# we can calculate dL/dd,dd/dc similarly."
      ],
      "metadata": {
        "id": "FQqD5cas34T8"
      },
      "execution_count": 14,
      "outputs": []
    },
    {
      "cell_type": "markdown",
      "source": [
        "2. [Chain rule of calculus](https://en.wikipedia.org/wiki/Chain_rule)\n",
        "\n"
      ],
      "metadata": {
        "id": "trz3vlU_6CyV"
      }
    },
    {
      "cell_type": "code",
      "source": [],
      "metadata": {
        "id": "ufI9WrUy5mB3"
      },
      "execution_count": null,
      "outputs": []
    }
  ]
}