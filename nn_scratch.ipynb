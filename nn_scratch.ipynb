{
  "nbformat": 4,
  "nbformat_minor": 0,
  "metadata": {
    "colab": {
      "provenance": [],
      "authorship_tag": "ABX9TyOfuoLPCW52kSl4H2OO89mC",
      "include_colab_link": true
    },
    "kernelspec": {
      "name": "python3",
      "display_name": "Python 3"
    },
    "language_info": {
      "name": "python"
    }
  },
  "cells": [
    {
      "cell_type": "markdown",
      "metadata": {
        "id": "view-in-github",
        "colab_type": "text"
      },
      "source": [
        "<a href=\"https://colab.research.google.com/github/vin136/NN-foundations/blob/main/nn_scratch.ipynb\" target=\"_parent\"><img src=\"https://colab.research.google.com/assets/colab-badge.svg\" alt=\"Open In Colab\"/></a>"
      ]
    },
    {
      "cell_type": "code",
      "execution_count": 10,
      "metadata": {
        "id": "_7ldmqEWtIp1"
      },
      "outputs": [],
      "source": [
        "import numpy as np\n",
        "import matplotlib.pyplot as plt\n"
      ]
    },
    {
      "cell_type": "code",
      "source": [
        "# 1. function and it's derivative\n",
        "def f(x):\n",
        "  return 3*(x**2) + 2\n"
      ],
      "metadata": {
        "id": "XaSzrtXitMKh"
      },
      "execution_count": 2,
      "outputs": []
    },
    {
      "cell_type": "code",
      "source": [
        "f(2)"
      ],
      "metadata": {
        "colab": {
          "base_uri": "https://localhost:8080/"
        },
        "id": "9an0ZYTW3BbU",
        "outputId": "34bd26ec-9497-4d32-f0f6-45b07e2bc2bf"
      },
      "execution_count": 3,
      "outputs": [
        {
          "output_type": "execute_result",
          "data": {
            "text/plain": [
              "14"
            ]
          },
          "metadata": {},
          "execution_count": 3
        }
      ]
    },
    {
      "cell_type": "code",
      "source": [
        "inputs_ = np.arange(-5,5,0.5)\n",
        "inputs_"
      ],
      "metadata": {
        "colab": {
          "base_uri": "https://localhost:8080/"
        },
        "id": "NedXSSHS3CUt",
        "outputId": "508243a0-536a-4129-a71c-608fffd2fdfc"
      },
      "execution_count": 6,
      "outputs": [
        {
          "output_type": "execute_result",
          "data": {
            "text/plain": [
              "array([-5. , -4.5, -4. , -3.5, -3. , -2.5, -2. , -1.5, -1. , -0.5,  0. ,\n",
              "        0.5,  1. ,  1.5,  2. ,  2.5,  3. ,  3.5,  4. ,  4.5])"
            ]
          },
          "metadata": {},
          "execution_count": 6
        }
      ]
    },
    {
      "cell_type": "code",
      "source": [
        "y = f(inputs_)\n",
        "y"
      ],
      "metadata": {
        "colab": {
          "base_uri": "https://localhost:8080/"
        },
        "id": "BgMkwUZ93Lzg",
        "outputId": "b3982ea0-9d25-417d-de20-9024918bf039"
      },
      "execution_count": 8,
      "outputs": [
        {
          "output_type": "execute_result",
          "data": {
            "text/plain": [
              "array([77.  , 62.75, 50.  , 38.75, 29.  , 20.75, 14.  ,  8.75,  5.  ,\n",
              "        2.75,  2.  ,  2.75,  5.  ,  8.75, 14.  , 20.75, 29.  , 38.75,\n",
              "       50.  , 62.75])"
            ]
          },
          "metadata": {},
          "execution_count": 8
        }
      ]
    },
    {
      "cell_type": "code",
      "source": [
        "plt.plot(inputs_,y)"
      ],
      "metadata": {
        "colab": {
          "base_uri": "https://localhost:8080/",
          "height": 285
        },
        "id": "zSVjxc1T3VtA",
        "outputId": "03a4df32-9d4f-4a2a-f456-5868f99fa9ee"
      },
      "execution_count": 11,
      "outputs": [
        {
          "output_type": "execute_result",
          "data": {
            "text/plain": [
              "[<matplotlib.lines.Line2D at 0x7f822e78cc10>]"
            ]
          },
          "metadata": {},
          "execution_count": 11
        },
        {
          "output_type": "display_data",
          "data": {
            "text/plain": [
              "<Figure size 432x288 with 1 Axes>"
            ],
            "image/png": "[encoded data removed]"
          },
          "metadata": {
            "needs_background": "light"
          }
        }
      ]
    },
    {
      "cell_type": "code",
      "source": [
        "# derivative at a point dy/dx at x = 2\n",
        "x = 2\n",
        "h = 0.00001\n",
        "(f(x+h)-f(x))/h\n",
        "\n",
        "#verify this manually 6*x at (x= 2)"
      ],
      "metadata": {
        "colab": {
          "base_uri": "https://localhost:8080/"
        },
        "id": "mQGY9Z-N3dU6",
        "outputId": "8facb07c-6aac-4902-cf6d-c4019beb15c1"
      },
      "execution_count": 12,
      "outputs": [
        {
          "output_type": "execute_result",
          "data": {
            "text/plain": [
              "12.000030000081095"
            ]
          },
          "metadata": {},
          "execution_count": 12
        }
      ]
    },
    {
      "cell_type": "code",
      "source": [
        "\n",
        "a = 2\n",
        "b = 3\n",
        "\n",
        "#derivative of arbitrary mathematical expressions\n",
        "\n",
        "c = a*b + 1\n",
        "\n",
        "#whats dc/da => when i nudge a by little bit what's the effect on c\n",
        "#let's numerically derive it\n",
        "\n",
        "h = 0.00001\n",
        "\n",
        "(((a+h)*b + 1) - (a*b+1))/h\n",
        "\n",
        "d = c + b\n",
        "L = d**2\n",
        "\n",
        "# we can calculate dL/dd,dd/dc similarly."
      ],
      "metadata": {
        "id": "FQqD5cas34T8"
      },
      "execution_count": 14,
      "outputs": []
    },
    {
      "cell_type": "markdown",
      "source": [
        "2. [Chain rule of calculus](https://en.wikipedia.org/wiki/Chain_rule)\n",
        "\n",
        "question: Can we automatically calculate these derivatives of arbitrary mathematical expressions ?"
      ],
      "metadata": {
        "id": "trz3vlU_6CyV"
      }
    },
    {
      "cell_type": "code",
      "source": [
        "#let's practice this\n",
        "\n",
        "a = 2\n",
        "b = 3\n",
        "\n",
        "c = a*b\n",
        "\n",
        "d = c + 3\n",
        "\n",
        "#what's dd/da ?\n",
        "# dd/da = (dd/dc)(dc/da) = 1*b = 3\n",
        "\n"
      ],
      "metadata": {
        "id": "o90hhHOlTwN4"
      },
      "execution_count": null,
      "outputs": []
    },
    {
      "cell_type": "code",
      "source": [
        "# pass 1\n",
        "class Variable:\n",
        "  def __init__(self,data):\n",
        "    self.data = data\n",
        "\n",
        "  def __repr__(self):\n",
        "    return f\"Variable({self.data})\"\n",
        "\n",
        "  def __add__(self,other):\n",
        "    return Variable(self.data+other.data)\n",
        "\n",
        "  \n",
        "\n"
      ],
      "metadata": {
        "id": "ufI9WrUy5mB3"
      },
      "execution_count": 25,
      "outputs": []
    },
    {
      "cell_type": "code",
      "source": [
        "a = Variable(3)\n",
        "b = Variable(5)\n",
        "\n",
        "c = a + b\n",
        "\n",
        "c"
      ],
      "metadata": {
        "colab": {
          "base_uri": "https://localhost:8080/"
        },
        "id": "-zwZIGd3Qmig",
        "outputId": "ad5ecdba-4c89-4936-aefc-36cd70469980"
      },
      "execution_count": 26,
      "outputs": [
        {
          "output_type": "execute_result",
          "data": {
            "text/plain": [
              "Variable(8)"
            ]
          },
          "metadata": {},
          "execution_count": 26
        }
      ]
    },
    {
      "cell_type": "code",
      "source": [
        "d = a+2"
      ],
      "metadata": {
        "colab": {
          "base_uri": "https://localhost:8080/",
          "height": 294
        },
        "id": "-I-62WheQpc7",
        "outputId": "8d933376-f6e6-4aaf-c417-71e9db497b57"
      },
      "execution_count": 27,
      "outputs": [
        {
          "output_type": "error",
          "ename": "AttributeError",
          "evalue": "ignored",
          "traceback": [
            "\u001b[0;31m---------------------------------------------------------------------------\u001b[0m",
            "\u001b[0;31mAttributeError\u001b[0m                            Traceback (most recent call last)",
            "\u001b[0;32m<ipython-input-27-9d41b8eb6bc4>\u001b[0m in \u001b[0;36m<module>\u001b[0;34m\u001b[0m\n\u001b[0;32m----> 1\u001b[0;31m \u001b[0md\u001b[0m \u001b[0;34m=\u001b[0m \u001b[0ma\u001b[0m\u001b[0;34m+\u001b[0m\u001b[0;36m2\u001b[0m\u001b[0;34m\u001b[0m\u001b[0;34m\u001b[0m\u001b[0m\n\u001b[0m",
            "\u001b[0;32m<ipython-input-25-1fa4157b0710>\u001b[0m in \u001b[0;36m__add__\u001b[0;34m(self, other)\u001b[0m\n\u001b[1;32m      8\u001b[0m \u001b[0;34m\u001b[0m\u001b[0m\n\u001b[1;32m      9\u001b[0m   \u001b[0;32mdef\u001b[0m \u001b[0m__add__\u001b[0m\u001b[0;34m(\u001b[0m\u001b[0mself\u001b[0m\u001b[0;34m,\u001b[0m\u001b[0mother\u001b[0m\u001b[0;34m)\u001b[0m\u001b[0;34m:\u001b[0m\u001b[0;34m\u001b[0m\u001b[0;34m\u001b[0m\u001b[0m\n\u001b[0;32m---> 10\u001b[0;31m     \u001b[0;32mreturn\u001b[0m \u001b[0mVariable\u001b[0m\u001b[0;34m(\u001b[0m\u001b[0mself\u001b[0m\u001b[0;34m.\u001b[0m\u001b[0mdata\u001b[0m\u001b[0;34m+\u001b[0m\u001b[0mother\u001b[0m\u001b[0;34m.\u001b[0m\u001b[0mdata\u001b[0m\u001b[0;34m)\u001b[0m\u001b[0;34m\u001b[0m\u001b[0;34m\u001b[0m\u001b[0m\n\u001b[0m\u001b[1;32m     11\u001b[0m \u001b[0;34m\u001b[0m\u001b[0m\n\u001b[1;32m     12\u001b[0m \u001b[0;34m\u001b[0m\u001b[0m\n",
            "\u001b[0;31mAttributeError\u001b[0m: 'int' object has no attribute 'data'"
          ]
        }
      ]
    },
    {
      "cell_type": "code",
      "source": [
        "# pass 1\n",
        "class Variable:\n",
        "  def __init__(self,data):\n",
        "    self.data = data\n",
        "\n",
        "  def __repr__(self):\n",
        "    return f\"Variable({self.data})\"\n",
        "\n",
        "  def __add__(self,other):\n",
        "    #if other is not of Variable type, we'll cast it so\n",
        "    other = Variable(other) if isinstance(other,(int,float)) else other\n",
        "    return Variable(self.data+other.data)\n",
        "\n",
        "  \n",
        "\n",
        "  \n",
        "\n"
      ],
      "metadata": {
        "id": "H62Q9B1uQf3v"
      },
      "execution_count": 28,
      "outputs": []
    },
    {
      "cell_type": "code",
      "source": [
        "a = Variable(3)\n",
        "b = Variable(5)\n",
        "d = a+2"
      ],
      "metadata": {
        "id": "IF-aVvBZRxzj"
      },
      "execution_count": 29,
      "outputs": []
    },
    {
      "cell_type": "code",
      "source": [
        "d"
      ],
      "metadata": {
        "colab": {
          "base_uri": "https://localhost:8080/"
        },
        "id": "rRHMl2jsR1Gf",
        "outputId": "37dfad10-1ac4-44b6-adb5-c95a4ae4cc55"
      },
      "execution_count": 30,
      "outputs": [
        {
          "output_type": "execute_result",
          "data": {
            "text/plain": [
              "Variable(5)"
            ]
          },
          "metadata": {},
          "execution_count": 30
        }
      ]
    },
    {
      "cell_type": "code",
      "source": [
        "2+a"
      ],
      "metadata": {
        "colab": {
          "base_uri": "https://localhost:8080/",
          "height": 169
        },
        "id": "j_CrBp4cR2xo",
        "outputId": "4fb83d63-6b1c-4ec8-d068-d10f7bfbb167"
      },
      "execution_count": 31,
      "outputs": [
        {
          "output_type": "error",
          "ename": "TypeError",
          "evalue": "ignored",
          "traceback": [
            "\u001b[0;31m---------------------------------------------------------------------------\u001b[0m",
            "\u001b[0;31mTypeError\u001b[0m                                 Traceback (most recent call last)",
            "\u001b[0;32m<ipython-input-31-a8d4ab2c7f31>\u001b[0m in \u001b[0;36m<module>\u001b[0;34m\u001b[0m\n\u001b[0;32m----> 1\u001b[0;31m \u001b[0;36m2\u001b[0m\u001b[0;34m+\u001b[0m\u001b[0ma\u001b[0m\u001b[0;34m\u001b[0m\u001b[0;34m\u001b[0m\u001b[0m\n\u001b[0m",
            "\u001b[0;31mTypeError\u001b[0m: unsupported operand type(s) for +: 'int' and 'Variable'"
          ]
        }
      ]
    },
    {
      "cell_type": "code",
      "source": [
        "# pass 1\n",
        "class Variable:\n",
        "  def __init__(self,data):\n",
        "    self.data = data\n",
        "\n",
        "  def __repr__(self):\n",
        "    return f\"Variable({self.data})\"\n",
        "\n",
        "  def __add__(self,other):\n",
        "    #if other is not of Variable type, we'll cast it so\n",
        "    other = other if isinstance(other,Variable) else Variable(other)\n",
        "    return Variable(self.data+other.data)\n",
        "\n",
        "  def __radd__(self,other):\n",
        "    return self + other\n",
        "\n",
        "  \n",
        "\n",
        "  \n",
        "\n"
      ],
      "metadata": {
        "id": "IXHkqkPkR6B5"
      },
      "execution_count": 21,
      "outputs": []
    },
    {
      "cell_type": "code",
      "source": [
        "a = Variable(3)\n",
        "b = Variable(5)\n",
        "\n",
        "2+a"
      ],
      "metadata": {
        "colab": {
          "base_uri": "https://localhost:8080/"
        },
        "id": "KlWpXTT0SLFx",
        "outputId": "0efe1862-0231-4e57-dbf2-e18262557846"
      },
      "execution_count": 23,
      "outputs": [
        {
          "output_type": "execute_result",
          "data": {
            "text/plain": [
              "Variable(5)"
            ]
          },
          "metadata": {},
          "execution_count": 23
        }
      ]
    },
    {
      "cell_type": "code",
      "source": [
        "#let's just add support for other operations\n",
        "\n",
        "# pass 1\n",
        "class Variable:\n",
        "  def __init__(self,data):\n",
        "    self.data = data\n",
        "\n",
        "  def __repr__(self):\n",
        "    return f\"Variable({self.data})\"\n",
        "\n",
        "  def __add__(self,other):\n",
        "    #if other is not of Variable type, we'll cast it so\n",
        "    other = other if isinstance(other,Variable) else Variable(other)\n",
        "    return Variable(self.data+other.data)\n",
        "\n",
        "  def __radd__(self,other):\n",
        "    return self + other\n",
        "\n",
        "  def __mul__(self,other):\n",
        "    other = other if isinstance(other,Variable) else Variable(other)\n",
        "    return Variable(self.data*other.data)\n",
        "\n",
        "  def __rmul__(self,other):\n",
        "    return self*other\n",
        "\n",
        "  def __truediv__(self, other): # self / other\n",
        "    return self * other**-1\n",
        "\n",
        "  def __neg__(self): # -self\n",
        "    return self * -1\n",
        "\n",
        "  def __sub__(self, other): # self - other\n",
        "    return self + (-other)\n",
        "\n",
        "  def __radd__(self, other): # other + self\n",
        "    return self + other\n",
        "\n",
        "  \n",
        "\n",
        "  \n",
        "\n",
        "\n"
      ],
      "metadata": {
        "id": "Ad-S6xFMSz1-"
      },
      "execution_count": 32,
      "outputs": []
    },
    {
      "cell_type": "code",
      "source": [],
      "metadata": {
        "id": "GojuhI6lVuqw"
      },
      "execution_count": null,
      "outputs": []
    },
    {
      "cell_type": "markdown",
      "source": [
        "1. [radd](https://www.reddit.com/r/learnpython/comments/3cvgpi/can_someone_explain_radd_to_me_in_simple_terms_i/)"
      ],
      "metadata": {
        "id": "NS8rNIIkQgNH"
      }
    },
    {
      "cell_type": "code",
      "source": [
        "# what do i want now ?\n",
        "a = Variable(3)\n",
        "b = Variable(5)\n",
        "\n",
        "c = a + b\n",
        "\n",
        "d = 2*c \n",
        "\n",
        "L = c+d\n",
        "\n",
        "#when i evaluate this set i would want to automatically get all the derivaties: dL/dc,dL/da,dL/db.\n"
      ],
      "metadata": {
        "id": "JaYbmHU1wCkQ"
      },
      "execution_count": 33,
      "outputs": []
    },
    {
      "cell_type": "code",
      "source": [
        "L"
      ],
      "metadata": {
        "colab": {
          "base_uri": "https://localhost:8080/"
        },
        "id": "b_Vll4G5Oz-7",
        "outputId": "527bad80-6018-4636-9b96-ddde3d51f264"
      },
      "execution_count": 34,
      "outputs": [
        {
          "output_type": "execute_result",
          "data": {
            "text/plain": [
              "Variable(36)"
            ]
          },
          "metadata": {},
          "execution_count": 34
        }
      ]
    },
    {
      "cell_type": "code",
      "source": [
        "#let's get dL/da: go back to the definition\n",
        "\n",
        "#1\n",
        "a = Variable(3)\n",
        "b = Variable(5)\n",
        "\n",
        "\n",
        "\n",
        "c = a + b\n",
        "\n",
        "L = 2*c \n",
        "\n",
        "\n",
        "\n",
        "#2nudge a little bet and see the effect\n",
        "a = Variable(3)\n",
        "b = Variable(5)\n",
        "\n",
        "\n",
        "h  = 0.00001\n",
        "a += h\n",
        "\n",
        "\n",
        "c = a + b\n",
        "\n",
        "Lh = 2*c \n",
        "\n",
        "\n",
        "\n",
        "\n",
        "(Lh-L)/h\n"
      ],
      "metadata": {
        "colab": {
          "base_uri": "https://localhost:8080/"
        },
        "id": "svRy-L9zVyNU",
        "outputId": "0d6c907c-e328-4376-ca4c-5a677a07fb11"
      },
      "execution_count": 37,
      "outputs": [
        {
          "output_type": "execute_result",
          "data": {
            "text/plain": [
              "Variable(1.9999999999242843)"
            ]
          },
          "metadata": {},
          "execution_count": 37
        }
      ]
    },
    {
      "cell_type": "code",
      "source": [
        "#dL/da = (dL/dc)*dc/da = 2*1 => so chain rule kind of works. Can we implement this ?"
      ],
      "metadata": {
        "id": "_kBuFFNyWfWh"
      },
      "execution_count": 38,
      "outputs": []
    },
    {
      "cell_type": "code",
      "source": [
        "a = Variable(3)\n",
        "b = Variable(5)\n",
        "\n",
        "\n",
        "\n",
        "c = a + b"
      ],
      "metadata": {
        "id": "lSCtfsdPV5zO"
      },
      "execution_count": null,
      "outputs": []
    },
    {
      "cell_type": "code",
      "source": [
        "# it's good that we are tracking the outputs for expressions. But we also want to be able to take the dc/da. Let's keep track of it.\n",
        "\n",
        "# pass 2 ( we got to keep track of more state)\n",
        "\n",
        "\n",
        "#let's just add support for other operations\n",
        "\n",
        "# pass 1\n",
        "class Variable:\n",
        "  def __init__(self,data,_children = (),_op= '',label = ''):\n",
        "    self.data = data\n",
        "\n",
        "    self.grad = 0\n",
        "    self._op = _op\n",
        "    self.label = label\n",
        "    self._children = set(_children)\n",
        "\n",
        "  def __repr__(self):\n",
        "    return f\"Variable({self.data})\"\n",
        "\n",
        "  def __add__(self,other):\n",
        "    #if other is not of Variable type, we'll cast it so\n",
        "    other = other if isinstance(other,Variable) else Variable(other)\n",
        "    return Variable(self.data+other.data,(other,self),'+')\n",
        "\n",
        "  def __radd__(self,other):\n",
        "    return self + other\n",
        "\n",
        "  def __mul__(self,other):\n",
        "    other = other if isinstance(other,Variable) else Variable(other)\n",
        "    return Variable(self.data*other.data,(other,self),'*')\n",
        "\n",
        "  def __rmul__(self,other):\n",
        "    return self*other\n",
        "\n",
        "  def __truediv__(self, other): # self / other\n",
        "    return self * other**-1\n",
        "\n",
        "  def __neg__(self): # -self\n",
        "    return self * -1\n",
        "\n",
        "  def __sub__(self, other): # self - other\n",
        "    return self + (-other)\n",
        "\n",
        "  def __radd__(self, other): # other + self\n",
        "    return self + other\n",
        "\n",
        "  \n",
        "\n",
        "\n"
      ],
      "metadata": {
        "id": "mhNR0sfiwjay"
      },
      "execution_count": 110,
      "outputs": []
    },
    {
      "cell_type": "code",
      "source": [
        "a = Variable(3)\n",
        "b = Variable(5)\n",
        "c = 4*a + 3*b\n",
        "\n",
        "L = 2*c "
      ],
      "metadata": {
        "id": "lRbzR7w7YXdN"
      },
      "execution_count": 111,
      "outputs": []
    },
    {
      "cell_type": "code",
      "source": [
        "a._children"
      ],
      "metadata": {
        "colab": {
          "base_uri": "https://localhost:8080/"
        },
        "id": "sSbvw4wiZHqT",
        "outputId": "78a8ee71-c88b-4cb5-bdb6-c1880b9d6fa5"
      },
      "execution_count": 92,
      "outputs": [
        {
          "output_type": "execute_result",
          "data": {
            "text/plain": [
              "set()"
            ]
          },
          "metadata": {},
          "execution_count": 92
        }
      ]
    },
    {
      "cell_type": "code",
      "source": [
        "c._children,L._children"
      ],
      "metadata": {
        "colab": {
          "base_uri": "https://localhost:8080/"
        },
        "id": "XHjV4EMYZNi8",
        "outputId": "8531b274-1803-4ece-a078-a8a89293fcc0"
      },
      "execution_count": 93,
      "outputs": [
        {
          "output_type": "execute_result",
          "data": {
            "text/plain": [
              "({Variable(12), Variable(15)}, {Variable(12), Variable(54)})"
            ]
          },
          "metadata": {},
          "execution_count": 93
        }
      ]
    },
    {
      "cell_type": "code",
      "source": [
        "# we'll evaluate right to left.\n",
        "#base case = dL/dL = 1\n",
        "L.grad = 1\n",
        "\n",
        "#dL/dc = dL/dL* dL/dc\n",
        "c.grad = L.grad*(2)\n",
        "\n",
        "#chain-rule kicks in\n",
        "#dL/da = dL/dL* dL/dc * dc/da\n",
        "a.grad = L.grad*c.grad*(4)\n",
        "\n",
        "b.grad = L.grad*c.grad*(3)\n",
        "\n",
        "\n",
        "\n"
      ],
      "metadata": {
        "id": "vALuENhkaIjN"
      },
      "execution_count": 96,
      "outputs": []
    },
    {
      "cell_type": "code",
      "source": [
        "#sanity check\n",
        "\n",
        "a = Variable(3)\n",
        "b = Variable(5)\n",
        "c = 4*a + 3*b\n",
        "\n",
        "L = 2*c \n",
        "\n",
        "\n",
        "h = 0.00001\n",
        "a = Variable(3) + h\n",
        "b = Variable(5)\n",
        "c = 4*a + 3*b\n",
        "\n",
        "Lh = 2*c \n",
        "\n",
        "\n",
        "(Lh-L)/h"
      ],
      "metadata": {
        "colab": {
          "base_uri": "https://localhost:8080/"
        },
        "id": "P5xpZp98erVy",
        "outputId": "5942bfdd-53e4-42df-d973-8becbb1f56f3"
      },
      "execution_count": 94,
      "outputs": [
        {
          "output_type": "execute_result",
          "data": {
            "text/plain": [
              "Variable(7.999999999697137)"
            ]
          },
          "metadata": {},
          "execution_count": 94
        }
      ]
    },
    {
      "cell_type": "code",
      "source": [
        "a.grad"
      ],
      "metadata": {
        "colab": {
          "base_uri": "https://localhost:8080/"
        },
        "id": "l7LHYCWIfAjA",
        "outputId": "f1727b2a-a677-4b5c-b303-74792e6481f4"
      },
      "execution_count": 97,
      "outputs": [
        {
          "output_type": "execute_result",
          "data": {
            "text/plain": [
              "8"
            ]
          },
          "metadata": {},
          "execution_count": 97
        }
      ]
    },
    {
      "cell_type": "markdown",
      "source": [
        "## Aside : Visualize our computation graph"
      ],
      "metadata": {
        "id": "GwgIEZr1grVG"
      }
    },
    {
      "cell_type": "code",
      "source": [
        "#to visualize your graph\n",
        "from graphviz import Digraph\n",
        "\n",
        "def trace(root):\n",
        "  # builds a set of all nodes and edges in a graph\n",
        "  nodes, edges = set(), set()\n",
        "  def build(v):\n",
        "    if v not in nodes:\n",
        "      nodes.add(v)\n",
        "      for child in v._children:\n",
        "        edges.add((child, v))\n",
        "        build(child)\n",
        "  build(root)\n",
        "  return nodes, edges\n",
        "\n",
        "def draw_dot(root):\n",
        "  dot = Digraph(format='svg', graph_attr={'rankdir': 'LR'}) # LR = left to right\n",
        "  \n",
        "  nodes, edges = trace(root)\n",
        "  for n in nodes:\n",
        "    uid = str(id(n))\n",
        "    # for any value in the graph, create a rectangular ('record') node for it\n",
        "    dot.node(name = uid, label = \"{ %s | data %.4f | grad %.4f }\" % (n.label, n.data, n.grad), shape='record')\n",
        "    if n._op:\n",
        "      # if this value is a result of some operation, create an op node for it\n",
        "      dot.node(name = uid + n._op, label = n._op)\n",
        "      # and connect this node to it\n",
        "      dot.edge(uid + n._op, uid)\n",
        "\n",
        "  for n1, n2 in edges:\n",
        "    # connect n1 to the op node of n2\n",
        "    dot.edge(str(id(n1)), str(id(n2)) + n2._op)\n",
        "\n",
        "  return dot"
      ],
      "metadata": {
        "id": "TbSW7geNgugS"
      },
      "execution_count": 158,
      "outputs": []
    },
    {
      "cell_type": "code",
      "source": [
        "a = Variable(3,label='a')\n",
        "b = Variable(5,label='b')\n",
        "\n",
        "\n",
        "c = 4*a + 3*b\n",
        "\n",
        "\n",
        "L = 2*c \n",
        "\n",
        "draw_dot(L)"
      ],
      "metadata": {
        "colab": {
          "base_uri": "https://localhost:8080/",
          "height": 321
        },
        "id": "ePtY9PzNg3Pg",
        "outputId": "577f19b8-547c-4dd2-ff6c-0ed41d5a98b8"
      },
      "execution_count": 161,
      "outputs": [
        {
          "output_type": "execute_result",
          "data": {
            "text/plain": [
              "<graphviz.dot.Digraph at 0x7f127642ec10>"
            ],
            "image/svg+xml": "<?xml version=\"1.0\" encoding=\"UTF-8\" standalone=\"no\"?>\n<!DOCTYPE svg PUBLIC \"-//W3C//DTD SVG 1.1//EN\"\n \"http://www.w3.org/Graphics/SVG/1.1/DTD/svg11.dtd\">\n<!-- Generated by graphviz version 2.43.0 (0)\n -->\n<!-- Title: %3 Pages: 1 -->\n<svg width=\"1138pt\" height=\"210pt\"\n viewBox=\"0.00 0.00 1138.00 210.00\" xmlns=\"http://www.w3.org/2000/svg\" xmlns:xlink=\"http://www.w3.org/1999/xlink\">\n<g id=\"graph0\" class=\"graph\" transform=\"scale(1 1) rotate(0) translate(4 206)\">\n<title>%3</title>\n<polygon fill=\"white\" stroke=\"transparent\" points=\"-4,4 -4,-206 1134,-206 1134,4 -4,4\"/>\n<!-- 139717270577696 -->\n<g id=\"node1\" class=\"node\">\n<title>139717270577696</title>\n<polygon fill=\"none\" stroke=\"black\" points=\"0,-165.5 0,-201.5 185,-201.5 185,-165.5 0,-165.5\"/>\n<text text-anchor=\"middle\" x=\"11.5\" y=\"-179.8\" font-family=\"Times,serif\" font-size=\"14.00\">a</text>\n<polyline fill=\"none\" stroke=\"black\" points=\"23,-165.5 23,-201.5 \"/>\n<text text-anchor=\"middle\" x=\"63\" y=\"-179.8\" font-family=\"Times,serif\" font-size=\"14.00\">data 3.0000</text>\n<polyline fill=\"none\" stroke=\"black\" points=\"103,-165.5 103,-201.5 \"/>\n<text text-anchor=\"middle\" x=\"144\" y=\"-179.8\" font-family=\"Times,serif\" font-size=\"14.00\">grad 0.0000</text>\n</g>\n<!-- 139717270577744* -->\n<g id=\"node4\" class=\"node\">\n<title>139717270577744*</title>\n<ellipse fill=\"none\" stroke=\"black\" cx=\"248\" cy=\"-128.5\" rx=\"27\" ry=\"18\"/>\n<text text-anchor=\"middle\" x=\"248\" y=\"-124.8\" font-family=\"Times,serif\" font-size=\"14.00\">*</text>\n</g>\n<!-- 139717270577696&#45;&gt;139717270577744* -->\n<g id=\"edge10\" class=\"edge\">\n<title>139717270577696&#45;&gt;139717270577744*</title>\n<path fill=\"none\" stroke=\"black\" d=\"M158.84,-165.41C167.7,-162.61 176.62,-159.61 185,-156.5 195.49,-152.61 206.7,-147.76 216.67,-143.2\"/>\n<polygon fill=\"black\" stroke=\"black\" points=\"218.2,-146.35 225.78,-138.95 215.24,-140 218.2,-146.35\"/>\n</g>\n<!-- 139717270580816 -->\n<g id=\"node2\" class=\"node\">\n<title>139717270580816</title>\n<polygon fill=\"none\" stroke=\"black\" points=\"1.5,-55.5 1.5,-91.5 183.5,-91.5 183.5,-55.5 1.5,-55.5\"/>\n<text text-anchor=\"middle\" x=\"11.5\" y=\"-69.8\" font-family=\"Times,serif\" font-size=\"14.00\"> </text>\n<polyline fill=\"none\" stroke=\"black\" points=\"21.5,-55.5 21.5,-91.5 \"/>\n<text text-anchor=\"middle\" x=\"61.5\" y=\"-69.8\" font-family=\"Times,serif\" font-size=\"14.00\">data 3.0000</text>\n<polyline fill=\"none\" stroke=\"black\" points=\"101.5,-55.5 101.5,-91.5 \"/>\n<text text-anchor=\"middle\" x=\"142.5\" y=\"-69.8\" font-family=\"Times,serif\" font-size=\"14.00\">grad 0.0000</text>\n</g>\n<!-- 139717271319936* -->\n<g id=\"node10\" class=\"node\">\n<title>139717271319936*</title>\n<ellipse fill=\"none\" stroke=\"black\" cx=\"248\" cy=\"-73.5\" rx=\"27\" ry=\"18\"/>\n<text text-anchor=\"middle\" x=\"248\" y=\"-69.8\" font-family=\"Times,serif\" font-size=\"14.00\">*</text>\n</g>\n<!-- 139717270580816&#45;&gt;139717271319936* -->\n<g id=\"edge5\" class=\"edge\">\n<title>139717270580816&#45;&gt;139717271319936*</title>\n<path fill=\"none\" stroke=\"black\" d=\"M183.68,-73.5C193.22,-73.5 202.48,-73.5 210.84,-73.5\"/>\n<polygon fill=\"black\" stroke=\"black\" points=\"210.9,-77 220.9,-73.5 210.9,-70 210.9,-77\"/>\n</g>\n<!-- 139717270577744 -->\n<g id=\"node3\" class=\"node\">\n<title>139717270577744</title>\n<polygon fill=\"none\" stroke=\"black\" points=\"311,-110.5 311,-146.5 500,-146.5 500,-110.5 311,-110.5\"/>\n<text text-anchor=\"middle\" x=\"321\" y=\"-124.8\" font-family=\"Times,serif\" font-size=\"14.00\"> </text>\n<polyline fill=\"none\" stroke=\"black\" points=\"331,-110.5 331,-146.5 \"/>\n<text text-anchor=\"middle\" x=\"374.5\" y=\"-124.8\" font-family=\"Times,serif\" font-size=\"14.00\">data 12.0000</text>\n<polyline fill=\"none\" stroke=\"black\" points=\"418,-110.5 418,-146.5 \"/>\n<text text-anchor=\"middle\" x=\"459\" y=\"-124.8\" font-family=\"Times,serif\" font-size=\"14.00\">grad 0.0000</text>\n</g>\n<!-- 139717270234976+ -->\n<g id=\"node8\" class=\"node\">\n<title>139717270234976+</title>\n<ellipse fill=\"none\" stroke=\"black\" cx=\"563\" cy=\"-100.5\" rx=\"27\" ry=\"18\"/>\n<text text-anchor=\"middle\" x=\"563\" y=\"-96.8\" font-family=\"Times,serif\" font-size=\"14.00\">+</text>\n</g>\n<!-- 139717270577744&#45;&gt;139717270234976+ -->\n<g id=\"edge7\" class=\"edge\">\n<title>139717270577744&#45;&gt;139717270234976+</title>\n<path fill=\"none\" stroke=\"black\" d=\"M500.1,-111.65C509.4,-109.97 518.38,-108.35 526.49,-106.89\"/>\n<polygon fill=\"black\" stroke=\"black\" points=\"527.37,-110.29 536.59,-105.07 526.13,-103.4 527.37,-110.29\"/>\n</g>\n<!-- 139717270577744*&#45;&gt;139717270577744 -->\n<g id=\"edge1\" class=\"edge\">\n<title>139717270577744*&#45;&gt;139717270577744</title>\n<path fill=\"none\" stroke=\"black\" d=\"M275.03,-128.5C282.66,-128.5 291.52,-128.5 300.94,-128.5\"/>\n<polygon fill=\"black\" stroke=\"black\" points=\"300.94,-132 310.94,-128.5 300.94,-125 300.94,-132\"/>\n</g>\n<!-- 139717270578320 -->\n<g id=\"node5\" class=\"node\">\n<title>139717270578320</title>\n<polygon fill=\"none\" stroke=\"black\" points=\"1.5,-110.5 1.5,-146.5 183.5,-146.5 183.5,-110.5 1.5,-110.5\"/>\n<text text-anchor=\"middle\" x=\"11.5\" y=\"-124.8\" font-family=\"Times,serif\" font-size=\"14.00\"> </text>\n<polyline fill=\"none\" stroke=\"black\" points=\"21.5,-110.5 21.5,-146.5 \"/>\n<text text-anchor=\"middle\" x=\"61.5\" y=\"-124.8\" font-family=\"Times,serif\" font-size=\"14.00\">data 4.0000</text>\n<polyline fill=\"none\" stroke=\"black\" points=\"101.5,-110.5 101.5,-146.5 \"/>\n<text text-anchor=\"middle\" x=\"142.5\" y=\"-124.8\" font-family=\"Times,serif\" font-size=\"14.00\">grad 0.0000</text>\n</g>\n<!-- 139717270578320&#45;&gt;139717270577744* -->\n<g id=\"edge6\" class=\"edge\">\n<title>139717270578320&#45;&gt;139717270577744*</title>\n<path fill=\"none\" stroke=\"black\" d=\"M183.68,-128.5C193.22,-128.5 202.48,-128.5 210.84,-128.5\"/>\n<polygon fill=\"black\" stroke=\"black\" points=\"210.9,-132 220.9,-128.5 210.9,-125 210.9,-132\"/>\n</g>\n<!-- 139717271679760 -->\n<g id=\"node6\" class=\"node\">\n<title>139717271679760</title>\n<polygon fill=\"none\" stroke=\"black\" points=\"629.5,-27.5 629.5,-63.5 811.5,-63.5 811.5,-27.5 629.5,-27.5\"/>\n<text text-anchor=\"middle\" x=\"639.5\" y=\"-41.8\" font-family=\"Times,serif\" font-size=\"14.00\"> </text>\n<polyline fill=\"none\" stroke=\"black\" points=\"649.5,-27.5 649.5,-63.5 \"/>\n<text text-anchor=\"middle\" x=\"689.5\" y=\"-41.8\" font-family=\"Times,serif\" font-size=\"14.00\">data 2.0000</text>\n<polyline fill=\"none\" stroke=\"black\" points=\"729.5,-27.5 729.5,-63.5 \"/>\n<text text-anchor=\"middle\" x=\"770.5\" y=\"-41.8\" font-family=\"Times,serif\" font-size=\"14.00\">grad 0.0000</text>\n</g>\n<!-- 139717271680432* -->\n<g id=\"node12\" class=\"node\">\n<title>139717271680432*</title>\n<ellipse fill=\"none\" stroke=\"black\" cx=\"878\" cy=\"-72.5\" rx=\"27\" ry=\"18\"/>\n<text text-anchor=\"middle\" x=\"878\" y=\"-68.8\" font-family=\"Times,serif\" font-size=\"14.00\">*</text>\n</g>\n<!-- 139717271679760&#45;&gt;139717271680432* -->\n<g id=\"edge11\" class=\"edge\">\n<title>139717271679760&#45;&gt;139717271680432*</title>\n<path fill=\"none\" stroke=\"black\" d=\"M811.5,-61.13C822.24,-62.99 832.66,-64.8 841.91,-66.41\"/>\n<polygon fill=\"black\" stroke=\"black\" points=\"841.36,-69.86 851.81,-68.13 842.55,-62.97 841.36,-69.86\"/>\n</g>\n<!-- 139717270234976 -->\n<g id=\"node7\" class=\"node\">\n<title>139717270234976</title>\n<polygon fill=\"none\" stroke=\"black\" points=\"626,-82.5 626,-118.5 815,-118.5 815,-82.5 626,-82.5\"/>\n<text text-anchor=\"middle\" x=\"636\" y=\"-96.8\" font-family=\"Times,serif\" font-size=\"14.00\"> </text>\n<polyline fill=\"none\" stroke=\"black\" points=\"646,-82.5 646,-118.5 \"/>\n<text text-anchor=\"middle\" x=\"689.5\" y=\"-96.8\" font-family=\"Times,serif\" font-size=\"14.00\">data 27.0000</text>\n<polyline fill=\"none\" stroke=\"black\" points=\"733,-82.5 733,-118.5 \"/>\n<text text-anchor=\"middle\" x=\"774\" y=\"-96.8\" font-family=\"Times,serif\" font-size=\"14.00\">grad 0.0000</text>\n</g>\n<!-- 139717270234976&#45;&gt;139717271680432* -->\n<g id=\"edge12\" class=\"edge\">\n<title>139717270234976&#45;&gt;139717271680432*</title>\n<path fill=\"none\" stroke=\"black\" d=\"M815.1,-83.65C824.4,-81.97 833.38,-80.35 841.49,-78.89\"/>\n<polygon fill=\"black\" stroke=\"black\" points=\"842.37,-82.29 851.59,-77.07 841.13,-75.4 842.37,-82.29\"/>\n</g>\n<!-- 139717270234976+&#45;&gt;139717270234976 -->\n<g id=\"edge2\" class=\"edge\">\n<title>139717270234976+&#45;&gt;139717270234976</title>\n<path fill=\"none\" stroke=\"black\" d=\"M590.03,-100.5C597.66,-100.5 606.52,-100.5 615.94,-100.5\"/>\n<polygon fill=\"black\" stroke=\"black\" points=\"615.94,-104 625.94,-100.5 615.94,-97 615.94,-104\"/>\n</g>\n<!-- 139717271319936 -->\n<g id=\"node9\" class=\"node\">\n<title>139717271319936</title>\n<polygon fill=\"none\" stroke=\"black\" points=\"311,-55.5 311,-91.5 500,-91.5 500,-55.5 311,-55.5\"/>\n<text text-anchor=\"middle\" x=\"321\" y=\"-69.8\" font-family=\"Times,serif\" font-size=\"14.00\"> </text>\n<polyline fill=\"none\" stroke=\"black\" points=\"331,-55.5 331,-91.5 \"/>\n<text text-anchor=\"middle\" x=\"374.5\" y=\"-69.8\" font-family=\"Times,serif\" font-size=\"14.00\">data 15.0000</text>\n<polyline fill=\"none\" stroke=\"black\" points=\"418,-55.5 418,-91.5 \"/>\n<text text-anchor=\"middle\" x=\"459\" y=\"-69.8\" font-family=\"Times,serif\" font-size=\"14.00\">grad 0.0000</text>\n</g>\n<!-- 139717271319936&#45;&gt;139717270234976+ -->\n<g id=\"edge8\" class=\"edge\">\n<title>139717271319936&#45;&gt;139717270234976+</title>\n<path fill=\"none\" stroke=\"black\" d=\"M500.1,-89.75C509.4,-91.37 518.38,-92.93 526.49,-94.33\"/>\n<polygon fill=\"black\" stroke=\"black\" points=\"526.14,-97.83 536.59,-96.09 527.34,-90.93 526.14,-97.83\"/>\n</g>\n<!-- 139717271319936*&#45;&gt;139717271319936 -->\n<g id=\"edge3\" class=\"edge\">\n<title>139717271319936*&#45;&gt;139717271319936</title>\n<path fill=\"none\" stroke=\"black\" d=\"M275.03,-73.5C282.66,-73.5 291.52,-73.5 300.94,-73.5\"/>\n<polygon fill=\"black\" stroke=\"black\" points=\"300.94,-77 310.94,-73.5 300.94,-70 300.94,-77\"/>\n</g>\n<!-- 139717271680432 -->\n<g id=\"node11\" class=\"node\">\n<title>139717271680432</title>\n<polygon fill=\"none\" stroke=\"black\" points=\"941,-54.5 941,-90.5 1130,-90.5 1130,-54.5 941,-54.5\"/>\n<text text-anchor=\"middle\" x=\"951\" y=\"-68.8\" font-family=\"Times,serif\" font-size=\"14.00\"> </text>\n<polyline fill=\"none\" stroke=\"black\" points=\"961,-54.5 961,-90.5 \"/>\n<text text-anchor=\"middle\" x=\"1004.5\" y=\"-68.8\" font-family=\"Times,serif\" font-size=\"14.00\">data 54.0000</text>\n<polyline fill=\"none\" stroke=\"black\" points=\"1048,-54.5 1048,-90.5 \"/>\n<text text-anchor=\"middle\" x=\"1089\" y=\"-68.8\" font-family=\"Times,serif\" font-size=\"14.00\">grad 0.0000</text>\n</g>\n<!-- 139717271680432*&#45;&gt;139717271680432 -->\n<g id=\"edge4\" class=\"edge\">\n<title>139717271680432*&#45;&gt;139717271680432</title>\n<path fill=\"none\" stroke=\"black\" d=\"M905.03,-72.5C912.66,-72.5 921.52,-72.5 930.94,-72.5\"/>\n<polygon fill=\"black\" stroke=\"black\" points=\"930.94,-76 940.94,-72.5 930.94,-69 930.94,-76\"/>\n</g>\n<!-- 139717270578128 -->\n<g id=\"node13\" class=\"node\">\n<title>139717270578128</title>\n<polygon fill=\"none\" stroke=\"black\" points=\"0,-0.5 0,-36.5 185,-36.5 185,-0.5 0,-0.5\"/>\n<text text-anchor=\"middle\" x=\"11.5\" y=\"-14.8\" font-family=\"Times,serif\" font-size=\"14.00\">b</text>\n<polyline fill=\"none\" stroke=\"black\" points=\"23,-0.5 23,-36.5 \"/>\n<text text-anchor=\"middle\" x=\"63\" y=\"-14.8\" font-family=\"Times,serif\" font-size=\"14.00\">data 5.0000</text>\n<polyline fill=\"none\" stroke=\"black\" points=\"103,-0.5 103,-36.5 \"/>\n<text text-anchor=\"middle\" x=\"144\" y=\"-14.8\" font-family=\"Times,serif\" font-size=\"14.00\">grad 0.0000</text>\n</g>\n<!-- 139717270578128&#45;&gt;139717271319936* -->\n<g id=\"edge9\" class=\"edge\">\n<title>139717270578128&#45;&gt;139717271319936*</title>\n<path fill=\"none\" stroke=\"black\" d=\"M155.83,-36.53C165.66,-39.67 175.65,-43.05 185,-46.5 195.24,-50.28 206.22,-54.88 216.06,-59.2\"/>\n<polygon fill=\"black\" stroke=\"black\" points=\"214.88,-62.51 225.44,-63.39 217.74,-56.12 214.88,-62.51\"/>\n</g>\n</g>\n</svg>\n"
          },
          "metadata": {},
          "execution_count": 161
        }
      ]
    },
    {
      "cell_type": "code",
      "source": [
        "# now what we want is to be able to do something like like L.backward() that automatically populates all the grad attributes."
      ],
      "metadata": {
        "id": "QSy2GLekhDN7"
      },
      "execution_count": null,
      "outputs": []
    },
    {
      "cell_type": "code",
      "source": [],
      "metadata": {
        "id": "5-0FrqAigpZ1"
      },
      "execution_count": null,
      "outputs": []
    },
    {
      "cell_type": "code",
      "source": [
        "# phase 2\n",
        "#here's the mind-bending part: Can we compute all these automatically\n",
        "#implementing Chain rule\n",
        "\n",
        "class Variable:\n",
        "  def __init__(self,data,_children = (),_op= '',label = ''):\n",
        "    self.data = data\n",
        "\n",
        "    self.grad = 0\n",
        "    self._op = _op\n",
        "    self.label = label\n",
        "    self._children = set(_children)\n",
        "    # create a placeholder for calling this function\n",
        "    self._backward = lambda  : None\n",
        "\n",
        "  def __repr__(self):\n",
        "    return f\"Variable({self.data})\"\n",
        "\n",
        "  def __add__(self, other):\n",
        "    other = other if isinstance(other, Variable) else Variable(other)\n",
        "    # remember we go right to left, when we have intermediate computation\n",
        "    # out = a+b,(out.grad is already populated with dl/dc) and after each operation we want a.grad and b.grad populated.\n",
        "    # to automatically populate\n",
        "    out = Variable(self.data + other.data, (self, other), '+')\n",
        "    #local comp(remember to do these things when out.grad is available/populated..aka recursion)\n",
        "    def _backward():\n",
        "      self.grad += 1.0 * out.grad\n",
        "      other.grad += 1.0 * out.grad\n",
        "    out._backward = _backward\n",
        "\n",
        "    return out\n",
        "\n",
        "  def __mul__(self, other):\n",
        "    other = other if isinstance(other, Variable) else Variable(other)\n",
        "    out = Variable(self.data * other.data, (self, other), '*')\n",
        "    \n",
        "    def _backward():\n",
        "      self.grad += other.data * out.grad\n",
        "      other.grad += self.data * out.grad\n",
        "    out._backward = _backward\n",
        "      \n",
        "    return out\n",
        "\n",
        "  def __radd__(self,other):\n",
        "    return self + other\n",
        "\n",
        "  def __rmul__(self,other):\n",
        "    return self*other\n",
        "\n",
        "  def __truediv__(self, other): # self / other\n",
        "    return self * other**-1\n",
        "\n",
        "  def __neg__(self): # -self\n",
        "    return self * -1\n",
        "\n",
        "  def __sub__(self, other): # self - other\n",
        "    return self + (-other)\n",
        "\n",
        "  def __radd__(self, other): # other + self\n",
        "    return self + other\n",
        "\n",
        "  # exercise: go through power implementation\n",
        "  def __pow__(self, other):\n",
        "    assert isinstance(other, (int, float)), \"only supporting int/float powers for now\"\n",
        "    out = Variable(self.data**other, (self,), f'**{other}')\n",
        "\n",
        "    def _backward():\n",
        "        self.grad += other * (self.data ** (other - 1)) * out.grad\n",
        "    out._backward = _backward\n",
        "\n",
        "    return out\n",
        "\n",
        "\n",
        "\n",
        "\n"
      ],
      "metadata": {
        "id": "nGQZtQgSfCPq"
      },
      "execution_count": 169,
      "outputs": []
    },
    {
      "cell_type": "code",
      "source": [
        "a = Variable(3,label='a')\n",
        "b = Variable(5,label='b')\n",
        "\n",
        "w1 = Variable(4,label='w1')\n",
        "w2 = Variable(3,label='w2')\n",
        "w3 = Variable(2,label='w3')\n",
        "\n",
        "\n",
        "x = w1*a; x.label = 'x'\n",
        "y = w2*b; y.label = 'y'\n",
        "\n",
        "c = x + y; c.label = 'c'\n",
        "\n",
        "\n",
        "L = c*w3; L.label = 'L'\n",
        "\n",
        "draw_dot(L)\n",
        "\n",
        "\n",
        "\n",
        "\n"
      ],
      "metadata": {
        "colab": {
          "base_uri": "https://localhost:8080/",
          "height": 321
        },
        "id": "l_gaWm6Mps22",
        "outputId": "7291fe84-b6fd-4fed-d220-124db8a31d2f"
      },
      "execution_count": 170,
      "outputs": [
        {
          "output_type": "execute_result",
          "data": {
            "text/plain": [
              "<graphviz.dot.Digraph at 0x7f127645d250>"
            ],
            "image/svg+xml": "<?xml version=\"1.0\" encoding=\"UTF-8\" standalone=\"no\"?>\n<!DOCTYPE svg PUBLIC \"-//W3C//DTD SVG 1.1//EN\"\n \"http://www.w3.org/Graphics/SVG/1.1/DTD/svg11.dtd\">\n<!-- Generated by graphviz version 2.43.0 (0)\n -->\n<!-- Title: %3 Pages: 1 -->\n<svg width=\"1162pt\" height=\"210pt\"\n viewBox=\"0.00 0.00 1162.00 210.00\" xmlns=\"http://www.w3.org/2000/svg\" xmlns:xlink=\"http://www.w3.org/1999/xlink\">\n<g id=\"graph0\" class=\"graph\" transform=\"scale(1 1) rotate(0) translate(4 206)\">\n<title>%3</title>\n<polygon fill=\"white\" stroke=\"transparent\" points=\"-4,4 -4,-206 1158,-206 1158,4 -4,4\"/>\n<!-- 139717270429264 -->\n<g id=\"node1\" class=\"node\">\n<title>139717270429264</title>\n<polygon fill=\"none\" stroke=\"black\" points=\"321,-55.5 321,-91.5 513,-91.5 513,-55.5 321,-55.5\"/>\n<text text-anchor=\"middle\" x=\"332.5\" y=\"-69.8\" font-family=\"Times,serif\" font-size=\"14.00\">y</text>\n<polyline fill=\"none\" stroke=\"black\" points=\"344,-55.5 344,-91.5 \"/>\n<text text-anchor=\"middle\" x=\"387.5\" y=\"-69.8\" font-family=\"Times,serif\" font-size=\"14.00\">data 15.0000</text>\n<polyline fill=\"none\" stroke=\"black\" points=\"431,-55.5 431,-91.5 \"/>\n<text text-anchor=\"middle\" x=\"472\" y=\"-69.8\" font-family=\"Times,serif\" font-size=\"14.00\">grad 0.0000</text>\n</g>\n<!-- 139717270429552+ -->\n<g id=\"node11\" class=\"node\">\n<title>139717270429552+</title>\n<ellipse fill=\"none\" stroke=\"black\" cx=\"576\" cy=\"-100.5\" rx=\"27\" ry=\"18\"/>\n<text text-anchor=\"middle\" x=\"576\" y=\"-96.8\" font-family=\"Times,serif\" font-size=\"14.00\">+</text>\n</g>\n<!-- 139717270429264&#45;&gt;139717270429552+ -->\n<g id=\"edge12\" class=\"edge\">\n<title>139717270429264&#45;&gt;139717270429552+</title>\n<path fill=\"none\" stroke=\"black\" d=\"M513.4,-89.91C522.69,-91.5 531.64,-93.04 539.71,-94.43\"/>\n<polygon fill=\"black\" stroke=\"black\" points=\"539.32,-97.91 549.76,-96.16 540.5,-91.02 539.32,-97.91\"/>\n</g>\n<!-- 139717270429264* -->\n<g id=\"node2\" class=\"node\">\n<title>139717270429264*</title>\n<ellipse fill=\"none\" stroke=\"black\" cx=\"258\" cy=\"-73.5\" rx=\"27\" ry=\"18\"/>\n<text text-anchor=\"middle\" x=\"258\" y=\"-69.8\" font-family=\"Times,serif\" font-size=\"14.00\">*</text>\n</g>\n<!-- 139717270429264*&#45;&gt;139717270429264 -->\n<g id=\"edge1\" class=\"edge\">\n<title>139717270429264*&#45;&gt;139717270429264</title>\n<path fill=\"none\" stroke=\"black\" d=\"M285.28,-73.5C292.78,-73.5 301.44,-73.5 310.67,-73.5\"/>\n<polygon fill=\"black\" stroke=\"black\" points=\"310.87,-77 320.87,-73.5 310.87,-70 310.87,-77\"/>\n</g>\n<!-- 139717270427728 -->\n<g id=\"node3\" class=\"node\">\n<title>139717270427728</title>\n<polygon fill=\"none\" stroke=\"black\" points=\"5,-55.5 5,-91.5 190,-91.5 190,-55.5 5,-55.5\"/>\n<text text-anchor=\"middle\" x=\"16.5\" y=\"-69.8\" font-family=\"Times,serif\" font-size=\"14.00\">b</text>\n<polyline fill=\"none\" stroke=\"black\" points=\"28,-55.5 28,-91.5 \"/>\n<text text-anchor=\"middle\" x=\"68\" y=\"-69.8\" font-family=\"Times,serif\" font-size=\"14.00\">data 5.0000</text>\n<polyline fill=\"none\" stroke=\"black\" points=\"108,-55.5 108,-91.5 \"/>\n<text text-anchor=\"middle\" x=\"149\" y=\"-69.8\" font-family=\"Times,serif\" font-size=\"14.00\">grad 0.0000</text>\n</g>\n<!-- 139717270427728&#45;&gt;139717270429264* -->\n<g id=\"edge7\" class=\"edge\">\n<title>139717270427728&#45;&gt;139717270429264*</title>\n<path fill=\"none\" stroke=\"black\" d=\"M190.24,-73.5C200.87,-73.5 211.19,-73.5 220.41,-73.5\"/>\n<polygon fill=\"black\" stroke=\"black\" points=\"220.69,-77 230.69,-73.5 220.69,-70 220.69,-77\"/>\n</g>\n<!-- 139717270427776 -->\n<g id=\"node4\" class=\"node\">\n<title>139717270427776</title>\n<polygon fill=\"none\" stroke=\"black\" points=\"960,-109.5 960,-145.5 1154,-145.5 1154,-109.5 960,-109.5\"/>\n<text text-anchor=\"middle\" x=\"972.5\" y=\"-123.8\" font-family=\"Times,serif\" font-size=\"14.00\">L</text>\n<polyline fill=\"none\" stroke=\"black\" points=\"985,-109.5 985,-145.5 \"/>\n<text text-anchor=\"middle\" x=\"1028.5\" y=\"-123.8\" font-family=\"Times,serif\" font-size=\"14.00\">data 54.0000</text>\n<polyline fill=\"none\" stroke=\"black\" points=\"1072,-109.5 1072,-145.5 \"/>\n<text text-anchor=\"middle\" x=\"1113\" y=\"-123.8\" font-family=\"Times,serif\" font-size=\"14.00\">grad 0.0000</text>\n</g>\n<!-- 139717270427776* -->\n<g id=\"node5\" class=\"node\">\n<title>139717270427776*</title>\n<ellipse fill=\"none\" stroke=\"black\" cx=\"897\" cy=\"-127.5\" rx=\"27\" ry=\"18\"/>\n<text text-anchor=\"middle\" x=\"897\" y=\"-123.8\" font-family=\"Times,serif\" font-size=\"14.00\">*</text>\n</g>\n<!-- 139717270427776*&#45;&gt;139717270427776 -->\n<g id=\"edge2\" class=\"edge\">\n<title>139717270427776*&#45;&gt;139717270427776</title>\n<path fill=\"none\" stroke=\"black\" d=\"M924.09,-127.5C931.62,-127.5 940.34,-127.5 949.63,-127.5\"/>\n<polygon fill=\"black\" stroke=\"black\" points=\"949.92,-131 959.92,-127.5 949.92,-124 949.92,-131\"/>\n</g>\n<!-- 139717270428880 -->\n<g id=\"node6\" class=\"node\">\n<title>139717270428880</title>\n<polygon fill=\"none\" stroke=\"black\" points=\"0,-165.5 0,-201.5 195,-201.5 195,-165.5 0,-165.5\"/>\n<text text-anchor=\"middle\" x=\"16.5\" y=\"-179.8\" font-family=\"Times,serif\" font-size=\"14.00\">w1</text>\n<polyline fill=\"none\" stroke=\"black\" points=\"33,-165.5 33,-201.5 \"/>\n<text text-anchor=\"middle\" x=\"73\" y=\"-179.8\" font-family=\"Times,serif\" font-size=\"14.00\">data 4.0000</text>\n<polyline fill=\"none\" stroke=\"black\" points=\"113,-165.5 113,-201.5 \"/>\n<text text-anchor=\"middle\" x=\"154\" y=\"-179.8\" font-family=\"Times,serif\" font-size=\"14.00\">grad 0.0000</text>\n</g>\n<!-- 139717270429408* -->\n<g id=\"node8\" class=\"node\">\n<title>139717270429408*</title>\n<ellipse fill=\"none\" stroke=\"black\" cx=\"258\" cy=\"-128.5\" rx=\"27\" ry=\"18\"/>\n<text text-anchor=\"middle\" x=\"258\" y=\"-124.8\" font-family=\"Times,serif\" font-size=\"14.00\">*</text>\n</g>\n<!-- 139717270428880&#45;&gt;139717270429408* -->\n<g id=\"edge10\" class=\"edge\">\n<title>139717270428880&#45;&gt;139717270429408*</title>\n<path fill=\"none\" stroke=\"black\" d=\"M167.96,-165.43C177.12,-162.65 186.33,-159.65 195,-156.5 205.52,-152.68 216.74,-147.85 226.7,-143.29\"/>\n<polygon fill=\"black\" stroke=\"black\" points=\"228.23,-146.44 235.81,-139.03 225.27,-140.09 228.23,-146.44\"/>\n</g>\n<!-- 139717270429408 -->\n<g id=\"node7\" class=\"node\">\n<title>139717270429408</title>\n<polygon fill=\"none\" stroke=\"black\" points=\"321,-110.5 321,-146.5 513,-146.5 513,-110.5 321,-110.5\"/>\n<text text-anchor=\"middle\" x=\"332.5\" y=\"-124.8\" font-family=\"Times,serif\" font-size=\"14.00\">x</text>\n<polyline fill=\"none\" stroke=\"black\" points=\"344,-110.5 344,-146.5 \"/>\n<text text-anchor=\"middle\" x=\"387.5\" y=\"-124.8\" font-family=\"Times,serif\" font-size=\"14.00\">data 12.0000</text>\n<polyline fill=\"none\" stroke=\"black\" points=\"431,-110.5 431,-146.5 \"/>\n<text text-anchor=\"middle\" x=\"472\" y=\"-124.8\" font-family=\"Times,serif\" font-size=\"14.00\">grad 0.0000</text>\n</g>\n<!-- 139717270429408&#45;&gt;139717270429552+ -->\n<g id=\"edge11\" class=\"edge\">\n<title>139717270429408&#45;&gt;139717270429552+</title>\n<path fill=\"none\" stroke=\"black\" d=\"M513.4,-111.49C522.69,-109.83 531.64,-108.23 539.71,-106.79\"/>\n<polygon fill=\"black\" stroke=\"black\" points=\"540.53,-110.2 549.76,-105 539.31,-103.31 540.53,-110.2\"/>\n</g>\n<!-- 139717270429408*&#45;&gt;139717270429408 -->\n<g id=\"edge3\" class=\"edge\">\n<title>139717270429408*&#45;&gt;139717270429408</title>\n<path fill=\"none\" stroke=\"black\" d=\"M285.28,-128.5C292.78,-128.5 301.44,-128.5 310.67,-128.5\"/>\n<polygon fill=\"black\" stroke=\"black\" points=\"310.87,-132 320.87,-128.5 310.87,-125 310.87,-132\"/>\n</g>\n<!-- 139717270425856 -->\n<g id=\"node9\" class=\"node\">\n<title>139717270425856</title>\n<polygon fill=\"none\" stroke=\"black\" points=\"5,-110.5 5,-146.5 190,-146.5 190,-110.5 5,-110.5\"/>\n<text text-anchor=\"middle\" x=\"16.5\" y=\"-124.8\" font-family=\"Times,serif\" font-size=\"14.00\">a</text>\n<polyline fill=\"none\" stroke=\"black\" points=\"28,-110.5 28,-146.5 \"/>\n<text text-anchor=\"middle\" x=\"68\" y=\"-124.8\" font-family=\"Times,serif\" font-size=\"14.00\">data 3.0000</text>\n<polyline fill=\"none\" stroke=\"black\" points=\"108,-110.5 108,-146.5 \"/>\n<text text-anchor=\"middle\" x=\"149\" y=\"-124.8\" font-family=\"Times,serif\" font-size=\"14.00\">grad 0.0000</text>\n</g>\n<!-- 139717270425856&#45;&gt;139717270429408* -->\n<g id=\"edge9\" class=\"edge\">\n<title>139717270425856&#45;&gt;139717270429408*</title>\n<path fill=\"none\" stroke=\"black\" d=\"M190.24,-128.5C200.87,-128.5 211.19,-128.5 220.41,-128.5\"/>\n<polygon fill=\"black\" stroke=\"black\" points=\"220.69,-132 230.69,-128.5 220.69,-125 220.69,-132\"/>\n</g>\n<!-- 139717270429552 -->\n<g id=\"node10\" class=\"node\">\n<title>139717270429552</title>\n<polygon fill=\"none\" stroke=\"black\" points=\"640.5,-82.5 640.5,-118.5 832.5,-118.5 832.5,-82.5 640.5,-82.5\"/>\n<text text-anchor=\"middle\" x=\"652\" y=\"-96.8\" font-family=\"Times,serif\" font-size=\"14.00\">c</text>\n<polyline fill=\"none\" stroke=\"black\" points=\"663.5,-82.5 663.5,-118.5 \"/>\n<text text-anchor=\"middle\" x=\"707\" y=\"-96.8\" font-family=\"Times,serif\" font-size=\"14.00\">data 27.0000</text>\n<polyline fill=\"none\" stroke=\"black\" points=\"750.5,-82.5 750.5,-118.5 \"/>\n<text text-anchor=\"middle\" x=\"791.5\" y=\"-96.8\" font-family=\"Times,serif\" font-size=\"14.00\">grad 0.0000</text>\n</g>\n<!-- 139717270429552&#45;&gt;139717270427776* -->\n<g id=\"edge5\" class=\"edge\">\n<title>139717270429552&#45;&gt;139717270427776*</title>\n<path fill=\"none\" stroke=\"black\" d=\"M832.9,-116.75C842.78,-118.43 852.31,-120.06 860.85,-121.51\"/>\n<polygon fill=\"black\" stroke=\"black\" points=\"860.27,-124.96 870.71,-123.19 861.44,-118.06 860.27,-124.96\"/>\n</g>\n<!-- 139717270429552+&#45;&gt;139717270429552 -->\n<g id=\"edge4\" class=\"edge\">\n<title>139717270429552+&#45;&gt;139717270429552</title>\n<path fill=\"none\" stroke=\"black\" d=\"M603.17,-100.5C611.15,-100.5 620.46,-100.5 630.38,-100.5\"/>\n<polygon fill=\"black\" stroke=\"black\" points=\"630.47,-104 640.47,-100.5 630.47,-97 630.47,-104\"/>\n</g>\n<!-- 139717270427536 -->\n<g id=\"node12\" class=\"node\">\n<title>139717270427536</title>\n<polygon fill=\"none\" stroke=\"black\" points=\"639,-137.5 639,-173.5 834,-173.5 834,-137.5 639,-137.5\"/>\n<text text-anchor=\"middle\" x=\"655.5\" y=\"-151.8\" font-family=\"Times,serif\" font-size=\"14.00\">w3</text>\n<polyline fill=\"none\" stroke=\"black\" points=\"672,-137.5 672,-173.5 \"/>\n<text text-anchor=\"middle\" x=\"712\" y=\"-151.8\" font-family=\"Times,serif\" font-size=\"14.00\">data 2.0000</text>\n<polyline fill=\"none\" stroke=\"black\" points=\"752,-137.5 752,-173.5 \"/>\n<text text-anchor=\"middle\" x=\"793\" y=\"-151.8\" font-family=\"Times,serif\" font-size=\"14.00\">grad 0.0000</text>\n</g>\n<!-- 139717270427536&#45;&gt;139717270427776* -->\n<g id=\"edge8\" class=\"edge\">\n<title>139717270427536&#45;&gt;139717270427776*</title>\n<path fill=\"none\" stroke=\"black\" d=\"M834.27,-138.41C843.59,-136.76 852.57,-135.17 860.66,-133.74\"/>\n<polygon fill=\"black\" stroke=\"black\" points=\"861.49,-137.15 870.73,-131.96 860.28,-130.26 861.49,-137.15\"/>\n</g>\n<!-- 139717270427104 -->\n<g id=\"node13\" class=\"node\">\n<title>139717270427104</title>\n<polygon fill=\"none\" stroke=\"black\" points=\"0,-0.5 0,-36.5 195,-36.5 195,-0.5 0,-0.5\"/>\n<text text-anchor=\"middle\" x=\"16.5\" y=\"-14.8\" font-family=\"Times,serif\" font-size=\"14.00\">w2</text>\n<polyline fill=\"none\" stroke=\"black\" points=\"33,-0.5 33,-36.5 \"/>\n<text text-anchor=\"middle\" x=\"73\" y=\"-14.8\" font-family=\"Times,serif\" font-size=\"14.00\">data 3.0000</text>\n<polyline fill=\"none\" stroke=\"black\" points=\"113,-0.5 113,-36.5 \"/>\n<text text-anchor=\"middle\" x=\"154\" y=\"-14.8\" font-family=\"Times,serif\" font-size=\"14.00\">grad 0.0000</text>\n</g>\n<!-- 139717270427104&#45;&gt;139717270429264* -->\n<g id=\"edge6\" class=\"edge\">\n<title>139717270427104&#45;&gt;139717270429264*</title>\n<path fill=\"none\" stroke=\"black\" d=\"M164.79,-36.51C174.98,-39.63 185.32,-43 195,-46.5 205.27,-50.21 216.26,-54.79 226.09,-59.11\"/>\n<polygon fill=\"black\" stroke=\"black\" points=\"224.91,-62.42 235.47,-63.31 227.77,-56.03 224.91,-62.42\"/>\n</g>\n</g>\n</svg>\n"
          },
          "metadata": {},
          "execution_count": 170
        }
      ]
    },
    {
      "cell_type": "code",
      "source": [],
      "metadata": {
        "id": "k2m4VqMsyptP"
      },
      "execution_count": null,
      "outputs": []
    },
    {
      "cell_type": "code",
      "source": [
        "#a.grad = 8\n",
        "\n",
        "\n",
        "L.grad = 1\n",
        "L._backward()\n"
      ],
      "metadata": {
        "id": "HlxGLTQNqSUD"
      },
      "execution_count": 171,
      "outputs": []
    },
    {
      "cell_type": "code",
      "source": [
        "draw_dot(L)\n"
      ],
      "metadata": {
        "colab": {
          "base_uri": "https://localhost:8080/",
          "height": 321
        },
        "id": "yRkj7FRftLVL",
        "outputId": "c7ad9792-ba8d-452a-ccf2-ecc83bc988f1"
      },
      "execution_count": 172,
      "outputs": [
        {
          "output_type": "execute_result",
          "data": {
            "text/plain": [
              "<graphviz.dot.Digraph at 0x7f127646d940>"
            ],
            "image/svg+xml": "<?xml version=\"1.0\" encoding=\"UTF-8\" standalone=\"no\"?>\n<!DOCTYPE svg PUBLIC \"-//W3C//DTD SVG 1.1//EN\"\n \"http://www.w3.org/Graphics/SVG/1.1/DTD/svg11.dtd\">\n<!-- Generated by graphviz version 2.43.0 (0)\n -->\n<!-- Title: %3 Pages: 1 -->\n<svg width=\"1169pt\" height=\"210pt\"\n viewBox=\"0.00 0.00 1169.00 210.00\" xmlns=\"http://www.w3.org/2000/svg\" xmlns:xlink=\"http://www.w3.org/1999/xlink\">\n<g id=\"graph0\" class=\"graph\" transform=\"scale(1 1) rotate(0) translate(4 206)\">\n<title>%3</title>\n<polygon fill=\"white\" stroke=\"transparent\" points=\"-4,4 -4,-206 1165,-206 1165,4 -4,4\"/>\n<!-- 139717270429264 -->\n<g id=\"node1\" class=\"node\">\n<title>139717270429264</title>\n<polygon fill=\"none\" stroke=\"black\" points=\"321,-55.5 321,-91.5 513,-91.5 513,-55.5 321,-55.5\"/>\n<text text-anchor=\"middle\" x=\"332.5\" y=\"-69.8\" font-family=\"Times,serif\" font-size=\"14.00\">y</text>\n<polyline fill=\"none\" stroke=\"black\" points=\"344,-55.5 344,-91.5 \"/>\n<text text-anchor=\"middle\" x=\"387.5\" y=\"-69.8\" font-family=\"Times,serif\" font-size=\"14.00\">data 15.0000</text>\n<polyline fill=\"none\" stroke=\"black\" points=\"431,-55.5 431,-91.5 \"/>\n<text text-anchor=\"middle\" x=\"472\" y=\"-69.8\" font-family=\"Times,serif\" font-size=\"14.00\">grad 0.0000</text>\n</g>\n<!-- 139717270429552+ -->\n<g id=\"node11\" class=\"node\">\n<title>139717270429552+</title>\n<ellipse fill=\"none\" stroke=\"black\" cx=\"576\" cy=\"-100.5\" rx=\"27\" ry=\"18\"/>\n<text text-anchor=\"middle\" x=\"576\" y=\"-96.8\" font-family=\"Times,serif\" font-size=\"14.00\">+</text>\n</g>\n<!-- 139717270429264&#45;&gt;139717270429552+ -->\n<g id=\"edge12\" class=\"edge\">\n<title>139717270429264&#45;&gt;139717270429552+</title>\n<path fill=\"none\" stroke=\"black\" d=\"M513.4,-89.91C522.69,-91.5 531.64,-93.04 539.71,-94.43\"/>\n<polygon fill=\"black\" stroke=\"black\" points=\"539.32,-97.91 549.76,-96.16 540.5,-91.02 539.32,-97.91\"/>\n</g>\n<!-- 139717270429264* -->\n<g id=\"node2\" class=\"node\">\n<title>139717270429264*</title>\n<ellipse fill=\"none\" stroke=\"black\" cx=\"258\" cy=\"-73.5\" rx=\"27\" ry=\"18\"/>\n<text text-anchor=\"middle\" x=\"258\" y=\"-69.8\" font-family=\"Times,serif\" font-size=\"14.00\">*</text>\n</g>\n<!-- 139717270429264*&#45;&gt;139717270429264 -->\n<g id=\"edge1\" class=\"edge\">\n<title>139717270429264*&#45;&gt;139717270429264</title>\n<path fill=\"none\" stroke=\"black\" d=\"M285.28,-73.5C292.78,-73.5 301.44,-73.5 310.67,-73.5\"/>\n<polygon fill=\"black\" stroke=\"black\" points=\"310.87,-77 320.87,-73.5 310.87,-70 310.87,-77\"/>\n</g>\n<!-- 139717270427728 -->\n<g id=\"node3\" class=\"node\">\n<title>139717270427728</title>\n<polygon fill=\"none\" stroke=\"black\" points=\"5,-55.5 5,-91.5 190,-91.5 190,-55.5 5,-55.5\"/>\n<text text-anchor=\"middle\" x=\"16.5\" y=\"-69.8\" font-family=\"Times,serif\" font-size=\"14.00\">b</text>\n<polyline fill=\"none\" stroke=\"black\" points=\"28,-55.5 28,-91.5 \"/>\n<text text-anchor=\"middle\" x=\"68\" y=\"-69.8\" font-family=\"Times,serif\" font-size=\"14.00\">data 5.0000</text>\n<polyline fill=\"none\" stroke=\"black\" points=\"108,-55.5 108,-91.5 \"/>\n<text text-anchor=\"middle\" x=\"149\" y=\"-69.8\" font-family=\"Times,serif\" font-size=\"14.00\">grad 0.0000</text>\n</g>\n<!-- 139717270427728&#45;&gt;139717270429264* -->\n<g id=\"edge7\" class=\"edge\">\n<title>139717270427728&#45;&gt;139717270429264*</title>\n<path fill=\"none\" stroke=\"black\" d=\"M190.24,-73.5C200.87,-73.5 211.19,-73.5 220.41,-73.5\"/>\n<polygon fill=\"black\" stroke=\"black\" points=\"220.69,-77 230.69,-73.5 220.69,-70 220.69,-77\"/>\n</g>\n<!-- 139717270427776 -->\n<g id=\"node4\" class=\"node\">\n<title>139717270427776</title>\n<polygon fill=\"none\" stroke=\"black\" points=\"967,-109.5 967,-145.5 1161,-145.5 1161,-109.5 967,-109.5\"/>\n<text text-anchor=\"middle\" x=\"979.5\" y=\"-123.8\" font-family=\"Times,serif\" font-size=\"14.00\">L</text>\n<polyline fill=\"none\" stroke=\"black\" points=\"992,-109.5 992,-145.5 \"/>\n<text text-anchor=\"middle\" x=\"1035.5\" y=\"-123.8\" font-family=\"Times,serif\" font-size=\"14.00\">data 54.0000</text>\n<polyline fill=\"none\" stroke=\"black\" points=\"1079,-109.5 1079,-145.5 \"/>\n<text text-anchor=\"middle\" x=\"1120\" y=\"-123.8\" font-family=\"Times,serif\" font-size=\"14.00\">grad 1.0000</text>\n</g>\n<!-- 139717270427776* -->\n<g id=\"node5\" class=\"node\">\n<title>139717270427776*</title>\n<ellipse fill=\"none\" stroke=\"black\" cx=\"904\" cy=\"-127.5\" rx=\"27\" ry=\"18\"/>\n<text text-anchor=\"middle\" x=\"904\" y=\"-123.8\" font-family=\"Times,serif\" font-size=\"14.00\">*</text>\n</g>\n<!-- 139717270427776*&#45;&gt;139717270427776 -->\n<g id=\"edge2\" class=\"edge\">\n<title>139717270427776*&#45;&gt;139717270427776</title>\n<path fill=\"none\" stroke=\"black\" d=\"M931.09,-127.5C938.62,-127.5 947.34,-127.5 956.63,-127.5\"/>\n<polygon fill=\"black\" stroke=\"black\" points=\"956.92,-131 966.92,-127.5 956.92,-124 956.92,-131\"/>\n</g>\n<!-- 139717270428880 -->\n<g id=\"node6\" class=\"node\">\n<title>139717270428880</title>\n<polygon fill=\"none\" stroke=\"black\" points=\"0,-165.5 0,-201.5 195,-201.5 195,-165.5 0,-165.5\"/>\n<text text-anchor=\"middle\" x=\"16.5\" y=\"-179.8\" font-family=\"Times,serif\" font-size=\"14.00\">w1</text>\n<polyline fill=\"none\" stroke=\"black\" points=\"33,-165.5 33,-201.5 \"/>\n<text text-anchor=\"middle\" x=\"73\" y=\"-179.8\" font-family=\"Times,serif\" font-size=\"14.00\">data 4.0000</text>\n<polyline fill=\"none\" stroke=\"black\" points=\"113,-165.5 113,-201.5 \"/>\n<text text-anchor=\"middle\" x=\"154\" y=\"-179.8\" font-family=\"Times,serif\" font-size=\"14.00\">grad 0.0000</text>\n</g>\n<!-- 139717270429408* -->\n<g id=\"node8\" class=\"node\">\n<title>139717270429408*</title>\n<ellipse fill=\"none\" stroke=\"black\" cx=\"258\" cy=\"-128.5\" rx=\"27\" ry=\"18\"/>\n<text text-anchor=\"middle\" x=\"258\" y=\"-124.8\" font-family=\"Times,serif\" font-size=\"14.00\">*</text>\n</g>\n<!-- 139717270428880&#45;&gt;139717270429408* -->\n<g id=\"edge10\" class=\"edge\">\n<title>139717270428880&#45;&gt;139717270429408*</title>\n<path fill=\"none\" stroke=\"black\" d=\"M167.96,-165.43C177.12,-162.65 186.33,-159.65 195,-156.5 205.52,-152.68 216.74,-147.85 226.7,-143.29\"/>\n<polygon fill=\"black\" stroke=\"black\" points=\"228.23,-146.44 235.81,-139.03 225.27,-140.09 228.23,-146.44\"/>\n</g>\n<!-- 139717270429408 -->\n<g id=\"node7\" class=\"node\">\n<title>139717270429408</title>\n<polygon fill=\"none\" stroke=\"black\" points=\"321,-110.5 321,-146.5 513,-146.5 513,-110.5 321,-110.5\"/>\n<text text-anchor=\"middle\" x=\"332.5\" y=\"-124.8\" font-family=\"Times,serif\" font-size=\"14.00\">x</text>\n<polyline fill=\"none\" stroke=\"black\" points=\"344,-110.5 344,-146.5 \"/>\n<text text-anchor=\"middle\" x=\"387.5\" y=\"-124.8\" font-family=\"Times,serif\" font-size=\"14.00\">data 12.0000</text>\n<polyline fill=\"none\" stroke=\"black\" points=\"431,-110.5 431,-146.5 \"/>\n<text text-anchor=\"middle\" x=\"472\" y=\"-124.8\" font-family=\"Times,serif\" font-size=\"14.00\">grad 0.0000</text>\n</g>\n<!-- 139717270429408&#45;&gt;139717270429552+ -->\n<g id=\"edge11\" class=\"edge\">\n<title>139717270429408&#45;&gt;139717270429552+</title>\n<path fill=\"none\" stroke=\"black\" d=\"M513.4,-111.49C522.69,-109.83 531.64,-108.23 539.71,-106.79\"/>\n<polygon fill=\"black\" stroke=\"black\" points=\"540.53,-110.2 549.76,-105 539.31,-103.31 540.53,-110.2\"/>\n</g>\n<!-- 139717270429408*&#45;&gt;139717270429408 -->\n<g id=\"edge3\" class=\"edge\">\n<title>139717270429408*&#45;&gt;139717270429408</title>\n<path fill=\"none\" stroke=\"black\" d=\"M285.28,-128.5C292.78,-128.5 301.44,-128.5 310.67,-128.5\"/>\n<polygon fill=\"black\" stroke=\"black\" points=\"310.87,-132 320.87,-128.5 310.87,-125 310.87,-132\"/>\n</g>\n<!-- 139717270425856 -->\n<g id=\"node9\" class=\"node\">\n<title>139717270425856</title>\n<polygon fill=\"none\" stroke=\"black\" points=\"5,-110.5 5,-146.5 190,-146.5 190,-110.5 5,-110.5\"/>\n<text text-anchor=\"middle\" x=\"16.5\" y=\"-124.8\" font-family=\"Times,serif\" font-size=\"14.00\">a</text>\n<polyline fill=\"none\" stroke=\"black\" points=\"28,-110.5 28,-146.5 \"/>\n<text text-anchor=\"middle\" x=\"68\" y=\"-124.8\" font-family=\"Times,serif\" font-size=\"14.00\">data 3.0000</text>\n<polyline fill=\"none\" stroke=\"black\" points=\"108,-110.5 108,-146.5 \"/>\n<text text-anchor=\"middle\" x=\"149\" y=\"-124.8\" font-family=\"Times,serif\" font-size=\"14.00\">grad 0.0000</text>\n</g>\n<!-- 139717270425856&#45;&gt;139717270429408* -->\n<g id=\"edge9\" class=\"edge\">\n<title>139717270425856&#45;&gt;139717270429408*</title>\n<path fill=\"none\" stroke=\"black\" d=\"M190.24,-128.5C200.87,-128.5 211.19,-128.5 220.41,-128.5\"/>\n<polygon fill=\"black\" stroke=\"black\" points=\"220.69,-132 230.69,-128.5 220.69,-125 220.69,-132\"/>\n</g>\n<!-- 139717270429552 -->\n<g id=\"node10\" class=\"node\">\n<title>139717270429552</title>\n<polygon fill=\"none\" stroke=\"black\" points=\"644,-82.5 644,-118.5 836,-118.5 836,-82.5 644,-82.5\"/>\n<text text-anchor=\"middle\" x=\"655.5\" y=\"-96.8\" font-family=\"Times,serif\" font-size=\"14.00\">c</text>\n<polyline fill=\"none\" stroke=\"black\" points=\"667,-82.5 667,-118.5 \"/>\n<text text-anchor=\"middle\" x=\"710.5\" y=\"-96.8\" font-family=\"Times,serif\" font-size=\"14.00\">data 27.0000</text>\n<polyline fill=\"none\" stroke=\"black\" points=\"754,-82.5 754,-118.5 \"/>\n<text text-anchor=\"middle\" x=\"795\" y=\"-96.8\" font-family=\"Times,serif\" font-size=\"14.00\">grad 2.0000</text>\n</g>\n<!-- 139717270429552&#45;&gt;139717270427776* -->\n<g id=\"edge5\" class=\"edge\">\n<title>139717270429552&#45;&gt;139717270427776*</title>\n<path fill=\"none\" stroke=\"black\" d=\"M836.17,-116.36C847.28,-118.21 858.02,-120 867.53,-121.59\"/>\n<polygon fill=\"black\" stroke=\"black\" points=\"867.25,-125.09 877.68,-123.28 868.4,-118.18 867.25,-125.09\"/>\n</g>\n<!-- 139717270429552+&#45;&gt;139717270429552 -->\n<g id=\"edge4\" class=\"edge\">\n<title>139717270429552+&#45;&gt;139717270429552</title>\n<path fill=\"none\" stroke=\"black\" d=\"M603.03,-100.5C611.95,-100.5 622.56,-100.5 633.86,-100.5\"/>\n<polygon fill=\"black\" stroke=\"black\" points=\"633.94,-104 643.94,-100.5 633.94,-97 633.94,-104\"/>\n</g>\n<!-- 139717270427536 -->\n<g id=\"node12\" class=\"node\">\n<title>139717270427536</title>\n<polygon fill=\"none\" stroke=\"black\" points=\"639,-137.5 639,-173.5 841,-173.5 841,-137.5 639,-137.5\"/>\n<text text-anchor=\"middle\" x=\"655.5\" y=\"-151.8\" font-family=\"Times,serif\" font-size=\"14.00\">w3</text>\n<polyline fill=\"none\" stroke=\"black\" points=\"672,-137.5 672,-173.5 \"/>\n<text text-anchor=\"middle\" x=\"712\" y=\"-151.8\" font-family=\"Times,serif\" font-size=\"14.00\">data 2.0000</text>\n<polyline fill=\"none\" stroke=\"black\" points=\"752,-137.5 752,-173.5 \"/>\n<text text-anchor=\"middle\" x=\"796.5\" y=\"-151.8\" font-family=\"Times,serif\" font-size=\"14.00\">grad 27.0000</text>\n</g>\n<!-- 139717270427536&#45;&gt;139717270427776* -->\n<g id=\"edge8\" class=\"edge\">\n<title>139717270427536&#45;&gt;139717270427776*</title>\n<path fill=\"none\" stroke=\"black\" d=\"M841.29,-138.17C850.56,-136.56 859.48,-135.02 867.51,-133.63\"/>\n<polygon fill=\"black\" stroke=\"black\" points=\"868.25,-137.06 877.51,-131.91 867.06,-130.16 868.25,-137.06\"/>\n</g>\n<!-- 139717270427104 -->\n<g id=\"node13\" class=\"node\">\n<title>139717270427104</title>\n<polygon fill=\"none\" stroke=\"black\" points=\"0,-0.5 0,-36.5 195,-36.5 195,-0.5 0,-0.5\"/>\n<text text-anchor=\"middle\" x=\"16.5\" y=\"-14.8\" font-family=\"Times,serif\" font-size=\"14.00\">w2</text>\n<polyline fill=\"none\" stroke=\"black\" points=\"33,-0.5 33,-36.5 \"/>\n<text text-anchor=\"middle\" x=\"73\" y=\"-14.8\" font-family=\"Times,serif\" font-size=\"14.00\">data 3.0000</text>\n<polyline fill=\"none\" stroke=\"black\" points=\"113,-0.5 113,-36.5 \"/>\n<text text-anchor=\"middle\" x=\"154\" y=\"-14.8\" font-family=\"Times,serif\" font-size=\"14.00\">grad 0.0000</text>\n</g>\n<!-- 139717270427104&#45;&gt;139717270429264* -->\n<g id=\"edge6\" class=\"edge\">\n<title>139717270427104&#45;&gt;139717270429264*</title>\n<path fill=\"none\" stroke=\"black\" d=\"M164.79,-36.51C174.98,-39.63 185.32,-43 195,-46.5 205.27,-50.21 216.26,-54.79 226.09,-59.11\"/>\n<polygon fill=\"black\" stroke=\"black\" points=\"224.91,-62.42 235.47,-63.31 227.77,-56.03 224.91,-62.42\"/>\n</g>\n</g>\n</svg>\n"
          },
          "metadata": {},
          "execution_count": 172
        }
      ]
    },
    {
      "cell_type": "code",
      "source": [
        "c._backward()\n",
        "draw_dot(L)"
      ],
      "metadata": {
        "colab": {
          "base_uri": "https://localhost:8080/",
          "height": 321
        },
        "id": "cQuh-_9gtNfp",
        "outputId": "d8b9ea55-8a0e-4826-caea-f6e61f39dc48"
      },
      "execution_count": 173,
      "outputs": [
        {
          "output_type": "execute_result",
          "data": {
            "text/plain": [
              "<graphviz.dot.Digraph at 0x7f127648faf0>"
            ],
            "image/svg+xml": "<?xml version=\"1.0\" encoding=\"UTF-8\" standalone=\"no\"?>\n<!DOCTYPE svg PUBLIC \"-//W3C//DTD SVG 1.1//EN\"\n \"http://www.w3.org/Graphics/SVG/1.1/DTD/svg11.dtd\">\n<!-- Generated by graphviz version 2.43.0 (0)\n -->\n<!-- Title: %3 Pages: 1 -->\n<svg width=\"1169pt\" height=\"210pt\"\n viewBox=\"0.00 0.00 1169.00 210.00\" xmlns=\"http://www.w3.org/2000/svg\" xmlns:xlink=\"http://www.w3.org/1999/xlink\">\n<g id=\"graph0\" class=\"graph\" transform=\"scale(1 1) rotate(0) translate(4 206)\">\n<title>%3</title>\n<polygon fill=\"white\" stroke=\"transparent\" points=\"-4,4 -4,-206 1165,-206 1165,4 -4,4\"/>\n<!-- 139717270429264 -->\n<g id=\"node1\" class=\"node\">\n<title>139717270429264</title>\n<polygon fill=\"none\" stroke=\"black\" points=\"321,-55.5 321,-91.5 513,-91.5 513,-55.5 321,-55.5\"/>\n<text text-anchor=\"middle\" x=\"332.5\" y=\"-69.8\" font-family=\"Times,serif\" font-size=\"14.00\">y</text>\n<polyline fill=\"none\" stroke=\"black\" points=\"344,-55.5 344,-91.5 \"/>\n<text text-anchor=\"middle\" x=\"387.5\" y=\"-69.8\" font-family=\"Times,serif\" font-size=\"14.00\">data 15.0000</text>\n<polyline fill=\"none\" stroke=\"black\" points=\"431,-55.5 431,-91.5 \"/>\n<text text-anchor=\"middle\" x=\"472\" y=\"-69.8\" font-family=\"Times,serif\" font-size=\"14.00\">grad 2.0000</text>\n</g>\n<!-- 139717270429552+ -->\n<g id=\"node11\" class=\"node\">\n<title>139717270429552+</title>\n<ellipse fill=\"none\" stroke=\"black\" cx=\"576\" cy=\"-100.5\" rx=\"27\" ry=\"18\"/>\n<text text-anchor=\"middle\" x=\"576\" y=\"-96.8\" font-family=\"Times,serif\" font-size=\"14.00\">+</text>\n</g>\n<!-- 139717270429264&#45;&gt;139717270429552+ -->\n<g id=\"edge12\" class=\"edge\">\n<title>139717270429264&#45;&gt;139717270429552+</title>\n<path fill=\"none\" stroke=\"black\" d=\"M513.4,-89.91C522.69,-91.5 531.64,-93.04 539.71,-94.43\"/>\n<polygon fill=\"black\" stroke=\"black\" points=\"539.32,-97.91 549.76,-96.16 540.5,-91.02 539.32,-97.91\"/>\n</g>\n<!-- 139717270429264* -->\n<g id=\"node2\" class=\"node\">\n<title>139717270429264*</title>\n<ellipse fill=\"none\" stroke=\"black\" cx=\"258\" cy=\"-73.5\" rx=\"27\" ry=\"18\"/>\n<text text-anchor=\"middle\" x=\"258\" y=\"-69.8\" font-family=\"Times,serif\" font-size=\"14.00\">*</text>\n</g>\n<!-- 139717270429264*&#45;&gt;139717270429264 -->\n<g id=\"edge1\" class=\"edge\">\n<title>139717270429264*&#45;&gt;139717270429264</title>\n<path fill=\"none\" stroke=\"black\" d=\"M285.28,-73.5C292.78,-73.5 301.44,-73.5 310.67,-73.5\"/>\n<polygon fill=\"black\" stroke=\"black\" points=\"310.87,-77 320.87,-73.5 310.87,-70 310.87,-77\"/>\n</g>\n<!-- 139717270427728 -->\n<g id=\"node3\" class=\"node\">\n<title>139717270427728</title>\n<polygon fill=\"none\" stroke=\"black\" points=\"5,-55.5 5,-91.5 190,-91.5 190,-55.5 5,-55.5\"/>\n<text text-anchor=\"middle\" x=\"16.5\" y=\"-69.8\" font-family=\"Times,serif\" font-size=\"14.00\">b</text>\n<polyline fill=\"none\" stroke=\"black\" points=\"28,-55.5 28,-91.5 \"/>\n<text text-anchor=\"middle\" x=\"68\" y=\"-69.8\" font-family=\"Times,serif\" font-size=\"14.00\">data 5.0000</text>\n<polyline fill=\"none\" stroke=\"black\" points=\"108,-55.5 108,-91.5 \"/>\n<text text-anchor=\"middle\" x=\"149\" y=\"-69.8\" font-family=\"Times,serif\" font-size=\"14.00\">grad 0.0000</text>\n</g>\n<!-- 139717270427728&#45;&gt;139717270429264* -->\n<g id=\"edge7\" class=\"edge\">\n<title>139717270427728&#45;&gt;139717270429264*</title>\n<path fill=\"none\" stroke=\"black\" d=\"M190.24,-73.5C200.87,-73.5 211.19,-73.5 220.41,-73.5\"/>\n<polygon fill=\"black\" stroke=\"black\" points=\"220.69,-77 230.69,-73.5 220.69,-70 220.69,-77\"/>\n</g>\n<!-- 139717270427776 -->\n<g id=\"node4\" class=\"node\">\n<title>139717270427776</title>\n<polygon fill=\"none\" stroke=\"black\" points=\"967,-109.5 967,-145.5 1161,-145.5 1161,-109.5 967,-109.5\"/>\n<text text-anchor=\"middle\" x=\"979.5\" y=\"-123.8\" font-family=\"Times,serif\" font-size=\"14.00\">L</text>\n<polyline fill=\"none\" stroke=\"black\" points=\"992,-109.5 992,-145.5 \"/>\n<text text-anchor=\"middle\" x=\"1035.5\" y=\"-123.8\" font-family=\"Times,serif\" font-size=\"14.00\">data 54.0000</text>\n<polyline fill=\"none\" stroke=\"black\" points=\"1079,-109.5 1079,-145.5 \"/>\n<text text-anchor=\"middle\" x=\"1120\" y=\"-123.8\" font-family=\"Times,serif\" font-size=\"14.00\">grad 1.0000</text>\n</g>\n<!-- 139717270427776* -->\n<g id=\"node5\" class=\"node\">\n<title>139717270427776*</title>\n<ellipse fill=\"none\" stroke=\"black\" cx=\"904\" cy=\"-127.5\" rx=\"27\" ry=\"18\"/>\n<text text-anchor=\"middle\" x=\"904\" y=\"-123.8\" font-family=\"Times,serif\" font-size=\"14.00\">*</text>\n</g>\n<!-- 139717270427776*&#45;&gt;139717270427776 -->\n<g id=\"edge2\" class=\"edge\">\n<title>139717270427776*&#45;&gt;139717270427776</title>\n<path fill=\"none\" stroke=\"black\" d=\"M931.09,-127.5C938.62,-127.5 947.34,-127.5 956.63,-127.5\"/>\n<polygon fill=\"black\" stroke=\"black\" points=\"956.92,-131 966.92,-127.5 956.92,-124 956.92,-131\"/>\n</g>\n<!-- 139717270428880 -->\n<g id=\"node6\" class=\"node\">\n<title>139717270428880</title>\n<polygon fill=\"none\" stroke=\"black\" points=\"0,-165.5 0,-201.5 195,-201.5 195,-165.5 0,-165.5\"/>\n<text text-anchor=\"middle\" x=\"16.5\" y=\"-179.8\" font-family=\"Times,serif\" font-size=\"14.00\">w1</text>\n<polyline fill=\"none\" stroke=\"black\" points=\"33,-165.5 33,-201.5 \"/>\n<text text-anchor=\"middle\" x=\"73\" y=\"-179.8\" font-family=\"Times,serif\" font-size=\"14.00\">data 4.0000</text>\n<polyline fill=\"none\" stroke=\"black\" points=\"113,-165.5 113,-201.5 \"/>\n<text text-anchor=\"middle\" x=\"154\" y=\"-179.8\" font-family=\"Times,serif\" font-size=\"14.00\">grad 0.0000</text>\n</g>\n<!-- 139717270429408* -->\n<g id=\"node8\" class=\"node\">\n<title>139717270429408*</title>\n<ellipse fill=\"none\" stroke=\"black\" cx=\"258\" cy=\"-128.5\" rx=\"27\" ry=\"18\"/>\n<text text-anchor=\"middle\" x=\"258\" y=\"-124.8\" font-family=\"Times,serif\" font-size=\"14.00\">*</text>\n</g>\n<!-- 139717270428880&#45;&gt;139717270429408* -->\n<g id=\"edge10\" class=\"edge\">\n<title>139717270428880&#45;&gt;139717270429408*</title>\n<path fill=\"none\" stroke=\"black\" d=\"M167.96,-165.43C177.12,-162.65 186.33,-159.65 195,-156.5 205.52,-152.68 216.74,-147.85 226.7,-143.29\"/>\n<polygon fill=\"black\" stroke=\"black\" points=\"228.23,-146.44 235.81,-139.03 225.27,-140.09 228.23,-146.44\"/>\n</g>\n<!-- 139717270429408 -->\n<g id=\"node7\" class=\"node\">\n<title>139717270429408</title>\n<polygon fill=\"none\" stroke=\"black\" points=\"321,-110.5 321,-146.5 513,-146.5 513,-110.5 321,-110.5\"/>\n<text text-anchor=\"middle\" x=\"332.5\" y=\"-124.8\" font-family=\"Times,serif\" font-size=\"14.00\">x</text>\n<polyline fill=\"none\" stroke=\"black\" points=\"344,-110.5 344,-146.5 \"/>\n<text text-anchor=\"middle\" x=\"387.5\" y=\"-124.8\" font-family=\"Times,serif\" font-size=\"14.00\">data 12.0000</text>\n<polyline fill=\"none\" stroke=\"black\" points=\"431,-110.5 431,-146.5 \"/>\n<text text-anchor=\"middle\" x=\"472\" y=\"-124.8\" font-family=\"Times,serif\" font-size=\"14.00\">grad 2.0000</text>\n</g>\n<!-- 139717270429408&#45;&gt;139717270429552+ -->\n<g id=\"edge11\" class=\"edge\">\n<title>139717270429408&#45;&gt;139717270429552+</title>\n<path fill=\"none\" stroke=\"black\" d=\"M513.4,-111.49C522.69,-109.83 531.64,-108.23 539.71,-106.79\"/>\n<polygon fill=\"black\" stroke=\"black\" points=\"540.53,-110.2 549.76,-105 539.31,-103.31 540.53,-110.2\"/>\n</g>\n<!-- 139717270429408*&#45;&gt;139717270429408 -->\n<g id=\"edge3\" class=\"edge\">\n<title>139717270429408*&#45;&gt;139717270429408</title>\n<path fill=\"none\" stroke=\"black\" d=\"M285.28,-128.5C292.78,-128.5 301.44,-128.5 310.67,-128.5\"/>\n<polygon fill=\"black\" stroke=\"black\" points=\"310.87,-132 320.87,-128.5 310.87,-125 310.87,-132\"/>\n</g>\n<!-- 139717270425856 -->\n<g id=\"node9\" class=\"node\">\n<title>139717270425856</title>\n<polygon fill=\"none\" stroke=\"black\" points=\"5,-110.5 5,-146.5 190,-146.5 190,-110.5 5,-110.5\"/>\n<text text-anchor=\"middle\" x=\"16.5\" y=\"-124.8\" font-family=\"Times,serif\" font-size=\"14.00\">a</text>\n<polyline fill=\"none\" stroke=\"black\" points=\"28,-110.5 28,-146.5 \"/>\n<text text-anchor=\"middle\" x=\"68\" y=\"-124.8\" font-family=\"Times,serif\" font-size=\"14.00\">data 3.0000</text>\n<polyline fill=\"none\" stroke=\"black\" points=\"108,-110.5 108,-146.5 \"/>\n<text text-anchor=\"middle\" x=\"149\" y=\"-124.8\" font-family=\"Times,serif\" font-size=\"14.00\">grad 0.0000</text>\n</g>\n<!-- 139717270425856&#45;&gt;139717270429408* -->\n<g id=\"edge9\" class=\"edge\">\n<title>139717270425856&#45;&gt;139717270429408*</title>\n<path fill=\"none\" stroke=\"black\" d=\"M190.24,-128.5C200.87,-128.5 211.19,-128.5 220.41,-128.5\"/>\n<polygon fill=\"black\" stroke=\"black\" points=\"220.69,-132 230.69,-128.5 220.69,-125 220.69,-132\"/>\n</g>\n<!-- 139717270429552 -->\n<g id=\"node10\" class=\"node\">\n<title>139717270429552</title>\n<polygon fill=\"none\" stroke=\"black\" points=\"644,-82.5 644,-118.5 836,-118.5 836,-82.5 644,-82.5\"/>\n<text text-anchor=\"middle\" x=\"655.5\" y=\"-96.8\" font-family=\"Times,serif\" font-size=\"14.00\">c</text>\n<polyline fill=\"none\" stroke=\"black\" points=\"667,-82.5 667,-118.5 \"/>\n<text text-anchor=\"middle\" x=\"710.5\" y=\"-96.8\" font-family=\"Times,serif\" font-size=\"14.00\">data 27.0000</text>\n<polyline fill=\"none\" stroke=\"black\" points=\"754,-82.5 754,-118.5 \"/>\n<text text-anchor=\"middle\" x=\"795\" y=\"-96.8\" font-family=\"Times,serif\" font-size=\"14.00\">grad 2.0000</text>\n</g>\n<!-- 139717270429552&#45;&gt;139717270427776* -->\n<g id=\"edge5\" class=\"edge\">\n<title>139717270429552&#45;&gt;139717270427776*</title>\n<path fill=\"none\" stroke=\"black\" d=\"M836.17,-116.36C847.28,-118.21 858.02,-120 867.53,-121.59\"/>\n<polygon fill=\"black\" stroke=\"black\" points=\"867.25,-125.09 877.68,-123.28 868.4,-118.18 867.25,-125.09\"/>\n</g>\n<!-- 139717270429552+&#45;&gt;139717270429552 -->\n<g id=\"edge4\" class=\"edge\">\n<title>139717270429552+&#45;&gt;139717270429552</title>\n<path fill=\"none\" stroke=\"black\" d=\"M603.03,-100.5C611.95,-100.5 622.56,-100.5 633.86,-100.5\"/>\n<polygon fill=\"black\" stroke=\"black\" points=\"633.94,-104 643.94,-100.5 633.94,-97 633.94,-104\"/>\n</g>\n<!-- 139717270427536 -->\n<g id=\"node12\" class=\"node\">\n<title>139717270427536</title>\n<polygon fill=\"none\" stroke=\"black\" points=\"639,-137.5 639,-173.5 841,-173.5 841,-137.5 639,-137.5\"/>\n<text text-anchor=\"middle\" x=\"655.5\" y=\"-151.8\" font-family=\"Times,serif\" font-size=\"14.00\">w3</text>\n<polyline fill=\"none\" stroke=\"black\" points=\"672,-137.5 672,-173.5 \"/>\n<text text-anchor=\"middle\" x=\"712\" y=\"-151.8\" font-family=\"Times,serif\" font-size=\"14.00\">data 2.0000</text>\n<polyline fill=\"none\" stroke=\"black\" points=\"752,-137.5 752,-173.5 \"/>\n<text text-anchor=\"middle\" x=\"796.5\" y=\"-151.8\" font-family=\"Times,serif\" font-size=\"14.00\">grad 27.0000</text>\n</g>\n<!-- 139717270427536&#45;&gt;139717270427776* -->\n<g id=\"edge8\" class=\"edge\">\n<title>139717270427536&#45;&gt;139717270427776*</title>\n<path fill=\"none\" stroke=\"black\" d=\"M841.29,-138.17C850.56,-136.56 859.48,-135.02 867.51,-133.63\"/>\n<polygon fill=\"black\" stroke=\"black\" points=\"868.25,-137.06 877.51,-131.91 867.06,-130.16 868.25,-137.06\"/>\n</g>\n<!-- 139717270427104 -->\n<g id=\"node13\" class=\"node\">\n<title>139717270427104</title>\n<polygon fill=\"none\" stroke=\"black\" points=\"0,-0.5 0,-36.5 195,-36.5 195,-0.5 0,-0.5\"/>\n<text text-anchor=\"middle\" x=\"16.5\" y=\"-14.8\" font-family=\"Times,serif\" font-size=\"14.00\">w2</text>\n<polyline fill=\"none\" stroke=\"black\" points=\"33,-0.5 33,-36.5 \"/>\n<text text-anchor=\"middle\" x=\"73\" y=\"-14.8\" font-family=\"Times,serif\" font-size=\"14.00\">data 3.0000</text>\n<polyline fill=\"none\" stroke=\"black\" points=\"113,-0.5 113,-36.5 \"/>\n<text text-anchor=\"middle\" x=\"154\" y=\"-14.8\" font-family=\"Times,serif\" font-size=\"14.00\">grad 0.0000</text>\n</g>\n<!-- 139717270427104&#45;&gt;139717270429264* -->\n<g id=\"edge6\" class=\"edge\">\n<title>139717270427104&#45;&gt;139717270429264*</title>\n<path fill=\"none\" stroke=\"black\" d=\"M164.79,-36.51C174.98,-39.63 185.32,-43 195,-46.5 205.27,-50.21 216.26,-54.79 226.09,-59.11\"/>\n<polygon fill=\"black\" stroke=\"black\" points=\"224.91,-62.42 235.47,-63.31 227.77,-56.03 224.91,-62.42\"/>\n</g>\n</g>\n</svg>\n"
          },
          "metadata": {},
          "execution_count": 173
        }
      ]
    },
    {
      "cell_type": "code",
      "source": [
        "x._backward()\n",
        "y._backward()\n",
        "draw_dot(L)"
      ],
      "metadata": {
        "colab": {
          "base_uri": "https://localhost:8080/",
          "height": 321
        },
        "id": "zNR9FONatp3B",
        "outputId": "4a0b4826-a6a3-44e2-bda2-a1ec711aeed1"
      },
      "execution_count": 174,
      "outputs": [
        {
          "output_type": "execute_result",
          "data": {
            "text/plain": [
              "<graphviz.dot.Digraph at 0x7f12763b0610>"
            ],
            "image/svg+xml": "<?xml version=\"1.0\" encoding=\"UTF-8\" standalone=\"no\"?>\n<!DOCTYPE svg PUBLIC \"-//W3C//DTD SVG 1.1//EN\"\n \"http://www.w3.org/Graphics/SVG/1.1/DTD/svg11.dtd\">\n<!-- Generated by graphviz version 2.43.0 (0)\n -->\n<!-- Title: %3 Pages: 1 -->\n<svg width=\"1176pt\" height=\"210pt\"\n viewBox=\"0.00 0.00 1176.00 210.00\" xmlns=\"http://www.w3.org/2000/svg\" xmlns:xlink=\"http://www.w3.org/1999/xlink\">\n<g id=\"graph0\" class=\"graph\" transform=\"scale(1 1) rotate(0) translate(4 206)\">\n<title>%3</title>\n<polygon fill=\"white\" stroke=\"transparent\" points=\"-4,4 -4,-206 1172,-206 1172,4 -4,4\"/>\n<!-- 139717270429264 -->\n<g id=\"node1\" class=\"node\">\n<title>139717270429264</title>\n<polygon fill=\"none\" stroke=\"black\" points=\"328,-55.5 328,-91.5 520,-91.5 520,-55.5 328,-55.5\"/>\n<text text-anchor=\"middle\" x=\"339.5\" y=\"-69.8\" font-family=\"Times,serif\" font-size=\"14.00\">y</text>\n<polyline fill=\"none\" stroke=\"black\" points=\"351,-55.5 351,-91.5 \"/>\n<text text-anchor=\"middle\" x=\"394.5\" y=\"-69.8\" font-family=\"Times,serif\" font-size=\"14.00\">data 15.0000</text>\n<polyline fill=\"none\" stroke=\"black\" points=\"438,-55.5 438,-91.5 \"/>\n<text text-anchor=\"middle\" x=\"479\" y=\"-69.8\" font-family=\"Times,serif\" font-size=\"14.00\">grad 2.0000</text>\n</g>\n<!-- 139717270429552+ -->\n<g id=\"node11\" class=\"node\">\n<title>139717270429552+</title>\n<ellipse fill=\"none\" stroke=\"black\" cx=\"583\" cy=\"-100.5\" rx=\"27\" ry=\"18\"/>\n<text text-anchor=\"middle\" x=\"583\" y=\"-96.8\" font-family=\"Times,serif\" font-size=\"14.00\">+</text>\n</g>\n<!-- 139717270429264&#45;&gt;139717270429552+ -->\n<g id=\"edge12\" class=\"edge\">\n<title>139717270429264&#45;&gt;139717270429552+</title>\n<path fill=\"none\" stroke=\"black\" d=\"M520.4,-89.91C529.69,-91.5 538.64,-93.04 546.71,-94.43\"/>\n<polygon fill=\"black\" stroke=\"black\" points=\"546.32,-97.91 556.76,-96.16 547.5,-91.02 546.32,-97.91\"/>\n</g>\n<!-- 139717270429264* -->\n<g id=\"node2\" class=\"node\">\n<title>139717270429264*</title>\n<ellipse fill=\"none\" stroke=\"black\" cx=\"265\" cy=\"-73.5\" rx=\"27\" ry=\"18\"/>\n<text text-anchor=\"middle\" x=\"265\" y=\"-69.8\" font-family=\"Times,serif\" font-size=\"14.00\">*</text>\n</g>\n<!-- 139717270429264*&#45;&gt;139717270429264 -->\n<g id=\"edge1\" class=\"edge\">\n<title>139717270429264*&#45;&gt;139717270429264</title>\n<path fill=\"none\" stroke=\"black\" d=\"M292.28,-73.5C299.78,-73.5 308.44,-73.5 317.67,-73.5\"/>\n<polygon fill=\"black\" stroke=\"black\" points=\"317.87,-77 327.87,-73.5 317.87,-70 317.87,-77\"/>\n</g>\n<!-- 139717270427728 -->\n<g id=\"node3\" class=\"node\">\n<title>139717270427728</title>\n<polygon fill=\"none\" stroke=\"black\" points=\"8.5,-55.5 8.5,-91.5 193.5,-91.5 193.5,-55.5 8.5,-55.5\"/>\n<text text-anchor=\"middle\" x=\"20\" y=\"-69.8\" font-family=\"Times,serif\" font-size=\"14.00\">b</text>\n<polyline fill=\"none\" stroke=\"black\" points=\"31.5,-55.5 31.5,-91.5 \"/>\n<text text-anchor=\"middle\" x=\"71.5\" y=\"-69.8\" font-family=\"Times,serif\" font-size=\"14.00\">data 5.0000</text>\n<polyline fill=\"none\" stroke=\"black\" points=\"111.5,-55.5 111.5,-91.5 \"/>\n<text text-anchor=\"middle\" x=\"152.5\" y=\"-69.8\" font-family=\"Times,serif\" font-size=\"14.00\">grad 6.0000</text>\n</g>\n<!-- 139717270427728&#45;&gt;139717270429264* -->\n<g id=\"edge7\" class=\"edge\">\n<title>139717270427728&#45;&gt;139717270429264*</title>\n<path fill=\"none\" stroke=\"black\" d=\"M193.89,-73.5C205.87,-73.5 217.52,-73.5 227.78,-73.5\"/>\n<polygon fill=\"black\" stroke=\"black\" points=\"227.92,-77 237.92,-73.5 227.92,-70 227.92,-77\"/>\n</g>\n<!-- 139717270427776 -->\n<g id=\"node4\" class=\"node\">\n<title>139717270427776</title>\n<polygon fill=\"none\" stroke=\"black\" points=\"974,-109.5 974,-145.5 1168,-145.5 1168,-109.5 974,-109.5\"/>\n<text text-anchor=\"middle\" x=\"986.5\" y=\"-123.8\" font-family=\"Times,serif\" font-size=\"14.00\">L</text>\n<polyline fill=\"none\" stroke=\"black\" points=\"999,-109.5 999,-145.5 \"/>\n<text text-anchor=\"middle\" x=\"1042.5\" y=\"-123.8\" font-family=\"Times,serif\" font-size=\"14.00\">data 54.0000</text>\n<polyline fill=\"none\" stroke=\"black\" points=\"1086,-109.5 1086,-145.5 \"/>\n<text text-anchor=\"middle\" x=\"1127\" y=\"-123.8\" font-family=\"Times,serif\" font-size=\"14.00\">grad 1.0000</text>\n</g>\n<!-- 139717270427776* -->\n<g id=\"node5\" class=\"node\">\n<title>139717270427776*</title>\n<ellipse fill=\"none\" stroke=\"black\" cx=\"911\" cy=\"-127.5\" rx=\"27\" ry=\"18\"/>\n<text text-anchor=\"middle\" x=\"911\" y=\"-123.8\" font-family=\"Times,serif\" font-size=\"14.00\">*</text>\n</g>\n<!-- 139717270427776*&#45;&gt;139717270427776 -->\n<g id=\"edge2\" class=\"edge\">\n<title>139717270427776*&#45;&gt;139717270427776</title>\n<path fill=\"none\" stroke=\"black\" d=\"M938.09,-127.5C945.62,-127.5 954.34,-127.5 963.63,-127.5\"/>\n<polygon fill=\"black\" stroke=\"black\" points=\"963.92,-131 973.92,-127.5 963.92,-124 963.92,-131\"/>\n</g>\n<!-- 139717270428880 -->\n<g id=\"node6\" class=\"node\">\n<title>139717270428880</title>\n<polygon fill=\"none\" stroke=\"black\" points=\"3.5,-165.5 3.5,-201.5 198.5,-201.5 198.5,-165.5 3.5,-165.5\"/>\n<text text-anchor=\"middle\" x=\"20\" y=\"-179.8\" font-family=\"Times,serif\" font-size=\"14.00\">w1</text>\n<polyline fill=\"none\" stroke=\"black\" points=\"36.5,-165.5 36.5,-201.5 \"/>\n<text text-anchor=\"middle\" x=\"76.5\" y=\"-179.8\" font-family=\"Times,serif\" font-size=\"14.00\">data 4.0000</text>\n<polyline fill=\"none\" stroke=\"black\" points=\"116.5,-165.5 116.5,-201.5 \"/>\n<text text-anchor=\"middle\" x=\"157.5\" y=\"-179.8\" font-family=\"Times,serif\" font-size=\"14.00\">grad 6.0000</text>\n</g>\n<!-- 139717270429408* -->\n<g id=\"node8\" class=\"node\">\n<title>139717270429408*</title>\n<ellipse fill=\"none\" stroke=\"black\" cx=\"265\" cy=\"-128.5\" rx=\"27\" ry=\"18\"/>\n<text text-anchor=\"middle\" x=\"265\" y=\"-124.8\" font-family=\"Times,serif\" font-size=\"14.00\">*</text>\n</g>\n<!-- 139717270428880&#45;&gt;139717270429408* -->\n<g id=\"edge10\" class=\"edge\">\n<title>139717270428880&#45;&gt;139717270429408*</title>\n<path fill=\"none\" stroke=\"black\" d=\"M174.26,-165.48C183.66,-162.7 193.11,-159.68 202,-156.5 212.53,-152.73 223.76,-147.91 233.72,-143.34\"/>\n<polygon fill=\"black\" stroke=\"black\" points=\"235.26,-146.49 242.83,-139.08 232.29,-140.15 235.26,-146.49\"/>\n</g>\n<!-- 139717270429408 -->\n<g id=\"node7\" class=\"node\">\n<title>139717270429408</title>\n<polygon fill=\"none\" stroke=\"black\" points=\"328,-110.5 328,-146.5 520,-146.5 520,-110.5 328,-110.5\"/>\n<text text-anchor=\"middle\" x=\"339.5\" y=\"-124.8\" font-family=\"Times,serif\" font-size=\"14.00\">x</text>\n<polyline fill=\"none\" stroke=\"black\" points=\"351,-110.5 351,-146.5 \"/>\n<text text-anchor=\"middle\" x=\"394.5\" y=\"-124.8\" font-family=\"Times,serif\" font-size=\"14.00\">data 12.0000</text>\n<polyline fill=\"none\" stroke=\"black\" points=\"438,-110.5 438,-146.5 \"/>\n<text text-anchor=\"middle\" x=\"479\" y=\"-124.8\" font-family=\"Times,serif\" font-size=\"14.00\">grad 2.0000</text>\n</g>\n<!-- 139717270429408&#45;&gt;139717270429552+ -->\n<g id=\"edge11\" class=\"edge\">\n<title>139717270429408&#45;&gt;139717270429552+</title>\n<path fill=\"none\" stroke=\"black\" d=\"M520.4,-111.49C529.69,-109.83 538.64,-108.23 546.71,-106.79\"/>\n<polygon fill=\"black\" stroke=\"black\" points=\"547.53,-110.2 556.76,-105 546.31,-103.31 547.53,-110.2\"/>\n</g>\n<!-- 139717270429408*&#45;&gt;139717270429408 -->\n<g id=\"edge3\" class=\"edge\">\n<title>139717270429408*&#45;&gt;139717270429408</title>\n<path fill=\"none\" stroke=\"black\" d=\"M292.28,-128.5C299.78,-128.5 308.44,-128.5 317.67,-128.5\"/>\n<polygon fill=\"black\" stroke=\"black\" points=\"317.87,-132 327.87,-128.5 317.87,-125 317.87,-132\"/>\n</g>\n<!-- 139717270425856 -->\n<g id=\"node9\" class=\"node\">\n<title>139717270425856</title>\n<polygon fill=\"none\" stroke=\"black\" points=\"8.5,-110.5 8.5,-146.5 193.5,-146.5 193.5,-110.5 8.5,-110.5\"/>\n<text text-anchor=\"middle\" x=\"20\" y=\"-124.8\" font-family=\"Times,serif\" font-size=\"14.00\">a</text>\n<polyline fill=\"none\" stroke=\"black\" points=\"31.5,-110.5 31.5,-146.5 \"/>\n<text text-anchor=\"middle\" x=\"71.5\" y=\"-124.8\" font-family=\"Times,serif\" font-size=\"14.00\">data 3.0000</text>\n<polyline fill=\"none\" stroke=\"black\" points=\"111.5,-110.5 111.5,-146.5 \"/>\n<text text-anchor=\"middle\" x=\"152.5\" y=\"-124.8\" font-family=\"Times,serif\" font-size=\"14.00\">grad 8.0000</text>\n</g>\n<!-- 139717270425856&#45;&gt;139717270429408* -->\n<g id=\"edge9\" class=\"edge\">\n<title>139717270425856&#45;&gt;139717270429408*</title>\n<path fill=\"none\" stroke=\"black\" d=\"M193.89,-128.5C205.87,-128.5 217.52,-128.5 227.78,-128.5\"/>\n<polygon fill=\"black\" stroke=\"black\" points=\"227.92,-132 237.92,-128.5 227.92,-125 227.92,-132\"/>\n</g>\n<!-- 139717270429552 -->\n<g id=\"node10\" class=\"node\">\n<title>139717270429552</title>\n<polygon fill=\"none\" stroke=\"black\" points=\"651,-82.5 651,-118.5 843,-118.5 843,-82.5 651,-82.5\"/>\n<text text-anchor=\"middle\" x=\"662.5\" y=\"-96.8\" font-family=\"Times,serif\" font-size=\"14.00\">c</text>\n<polyline fill=\"none\" stroke=\"black\" points=\"674,-82.5 674,-118.5 \"/>\n<text text-anchor=\"middle\" x=\"717.5\" y=\"-96.8\" font-family=\"Times,serif\" font-size=\"14.00\">data 27.0000</text>\n<polyline fill=\"none\" stroke=\"black\" points=\"761,-82.5 761,-118.5 \"/>\n<text text-anchor=\"middle\" x=\"802\" y=\"-96.8\" font-family=\"Times,serif\" font-size=\"14.00\">grad 2.0000</text>\n</g>\n<!-- 139717270429552&#45;&gt;139717270427776* -->\n<g id=\"edge5\" class=\"edge\">\n<title>139717270429552&#45;&gt;139717270427776*</title>\n<path fill=\"none\" stroke=\"black\" d=\"M843.17,-116.36C854.28,-118.21 865.02,-120 874.53,-121.59\"/>\n<polygon fill=\"black\" stroke=\"black\" points=\"874.25,-125.09 884.68,-123.28 875.4,-118.18 874.25,-125.09\"/>\n</g>\n<!-- 139717270429552+&#45;&gt;139717270429552 -->\n<g id=\"edge4\" class=\"edge\">\n<title>139717270429552+&#45;&gt;139717270429552</title>\n<path fill=\"none\" stroke=\"black\" d=\"M610.03,-100.5C618.95,-100.5 629.56,-100.5 640.86,-100.5\"/>\n<polygon fill=\"black\" stroke=\"black\" points=\"640.94,-104 650.94,-100.5 640.94,-97 640.94,-104\"/>\n</g>\n<!-- 139717270427536 -->\n<g id=\"node12\" class=\"node\">\n<title>139717270427536</title>\n<polygon fill=\"none\" stroke=\"black\" points=\"646,-137.5 646,-173.5 848,-173.5 848,-137.5 646,-137.5\"/>\n<text text-anchor=\"middle\" x=\"662.5\" y=\"-151.8\" font-family=\"Times,serif\" font-size=\"14.00\">w3</text>\n<polyline fill=\"none\" stroke=\"black\" points=\"679,-137.5 679,-173.5 \"/>\n<text text-anchor=\"middle\" x=\"719\" y=\"-151.8\" font-family=\"Times,serif\" font-size=\"14.00\">data 2.0000</text>\n<polyline fill=\"none\" stroke=\"black\" points=\"759,-137.5 759,-173.5 \"/>\n<text text-anchor=\"middle\" x=\"803.5\" y=\"-151.8\" font-family=\"Times,serif\" font-size=\"14.00\">grad 27.0000</text>\n</g>\n<!-- 139717270427536&#45;&gt;139717270427776* -->\n<g id=\"edge8\" class=\"edge\">\n<title>139717270427536&#45;&gt;139717270427776*</title>\n<path fill=\"none\" stroke=\"black\" d=\"M848.29,-138.17C857.56,-136.56 866.48,-135.02 874.51,-133.63\"/>\n<polygon fill=\"black\" stroke=\"black\" points=\"875.25,-137.06 884.51,-131.91 874.06,-130.16 875.25,-137.06\"/>\n</g>\n<!-- 139717270427104 -->\n<g id=\"node13\" class=\"node\">\n<title>139717270427104</title>\n<polygon fill=\"none\" stroke=\"black\" points=\"0,-0.5 0,-36.5 202,-36.5 202,-0.5 0,-0.5\"/>\n<text text-anchor=\"middle\" x=\"16.5\" y=\"-14.8\" font-family=\"Times,serif\" font-size=\"14.00\">w2</text>\n<polyline fill=\"none\" stroke=\"black\" points=\"33,-0.5 33,-36.5 \"/>\n<text text-anchor=\"middle\" x=\"73\" y=\"-14.8\" font-family=\"Times,serif\" font-size=\"14.00\">data 3.0000</text>\n<polyline fill=\"none\" stroke=\"black\" points=\"113,-0.5 113,-36.5 \"/>\n<text text-anchor=\"middle\" x=\"157.5\" y=\"-14.8\" font-family=\"Times,serif\" font-size=\"14.00\">grad 10.0000</text>\n</g>\n<!-- 139717270427104&#45;&gt;139717270429264* -->\n<g id=\"edge6\" class=\"edge\">\n<title>139717270427104&#45;&gt;139717270429264*</title>\n<path fill=\"none\" stroke=\"black\" d=\"M171.25,-36.55C181.63,-39.64 192.15,-42.99 202,-46.5 212.29,-50.16 223.28,-54.72 233.11,-59.05\"/>\n<polygon fill=\"black\" stroke=\"black\" points=\"231.93,-62.36 242.49,-63.26 234.8,-55.97 231.93,-62.36\"/>\n</g>\n</g>\n</svg>\n"
          },
          "metadata": {},
          "execution_count": 174
        }
      ]
    },
    {
      "cell_type": "code",
      "source": [
        "#\n",
        "a.grad"
      ],
      "metadata": {
        "colab": {
          "base_uri": "https://localhost:8080/"
        },
        "id": "7r1XrPx71V7k",
        "outputId": "f350f40f-014c-4384-9081-92a8842d8e5b"
      },
      "execution_count": 175,
      "outputs": [
        {
          "output_type": "execute_result",
          "data": {
            "text/plain": [
              "8.0"
            ]
          },
          "metadata": {},
          "execution_count": 175
        }
      ]
    },
    {
      "cell_type": "code",
      "source": [
        "# now this ordering = ensuring that a node is called only after all it's future dependencies is called = reverse topological ordering"
      ],
      "metadata": {
        "id": "Z7zNc75d0Laf"
      },
      "execution_count": 176,
      "outputs": []
    },
    {
      "cell_type": "code",
      "source": [
        "# phase 2\n",
        "#here's the mind-bending part: Can we compute all these automatically\n",
        "#implementing Chain rule\n",
        "\n",
        "class Variable:\n",
        "  def __init__(self,data,_children = (),_op= '',label = ''):\n",
        "    self.data = data\n",
        "\n",
        "    self.grad = 0\n",
        "    self._op = _op\n",
        "    self.label = label\n",
        "    self._children = set(_children)\n",
        "    # create a placeholder for calling this function\n",
        "    self._backward = lambda  : None\n",
        "\n",
        "  def __repr__(self):\n",
        "    return f\"Variable({self.data})\"\n",
        "\n",
        "  def __add__(self, other):\n",
        "    other = other if isinstance(other, Variable) else Variable(other)\n",
        "    # remember we go right to left, when we have intermediate computation\n",
        "    # out = a+b,(out.grad is already populated with dl/dc) and after each operation we want a.grad and b.grad populated.\n",
        "    # to automatically populate\n",
        "    out = Variable(self.data + other.data, (self, other), '+')\n",
        "    #local comp(remember to do these things when out.grad is available/populated..aka recursion)\n",
        "    def _backward():\n",
        "      self.grad += 1.0 * out.grad\n",
        "      other.grad += 1.0 * out.grad\n",
        "    out._backward = _backward\n",
        "\n",
        "    return out\n",
        "\n",
        "  def __mul__(self, other):\n",
        "    other = other if isinstance(other, Variable) else Variable(other)\n",
        "    out = Variable(self.data * other.data, (self, other), '*')\n",
        "    \n",
        "    def _backward():\n",
        "      self.grad += other.data * out.grad\n",
        "      other.grad += self.data * out.grad\n",
        "    out._backward = _backward\n",
        "      \n",
        "    return out\n",
        "\n",
        "  def __radd__(self,other):\n",
        "    return self + other\n",
        "\n",
        "  def __rmul__(self,other):\n",
        "    return self*other\n",
        "\n",
        "  def __truediv__(self, other): # self / other\n",
        "    return self * other**-1\n",
        "\n",
        "  def __neg__(self): # -self\n",
        "    return self * -1\n",
        "\n",
        "  def __sub__(self, other): # self - other\n",
        "    return self + (-other)\n",
        "\n",
        "  def __radd__(self, other): # other + self\n",
        "    return self + other\n",
        "\n",
        "  # exercise: go through power implementation\n",
        "  def __pow__(self, other):\n",
        "    assert isinstance(other, (int, float)), \"only supporting int/float powers for now\"\n",
        "    out = Variable(self.data**other, (self,), f'**{other}')\n",
        "\n",
        "    def _backward():\n",
        "        self.grad += other * (self.data ** (other - 1)) * out.grad\n",
        "    out._backward = _backward\n",
        "\n",
        "    return out\n",
        "\n",
        "  def backward(self):\n",
        "    \n",
        "    topo = []\n",
        "    visited = set()\n",
        "    def build_topo(v):\n",
        "      if v not in visited:\n",
        "        visited.add(v)\n",
        "        for child in v._children:\n",
        "          build_topo(child)\n",
        "        topo.append(v)\n",
        "    build_topo(self)\n",
        "    \n",
        "    self.grad = 1.0\n",
        "    for node in reversed(topo):\n",
        "      node._backward()\n",
        "\n",
        "\n",
        "\n",
        "\n"
      ],
      "metadata": {
        "id": "xltfGs7h1op3"
      },
      "execution_count": 181,
      "outputs": []
    },
    {
      "cell_type": "code",
      "source": [
        "a = Variable(3,label='a')\n",
        "b = Variable(5,label='b')\n",
        "\n",
        "w1 = Variable(4,label='w1')\n",
        "w2 = Variable(3,label='w2')\n",
        "w3 = Variable(2,label='w3')\n",
        "\n",
        "\n",
        "x = w1*a; x.label = 'x'\n",
        "y = w2*b; y.label = 'y'\n",
        "\n",
        "c = x + y; c.label = 'c'\n",
        "\n",
        "\n",
        "L = c*w3; L.label = 'L'"
      ],
      "metadata": {
        "id": "oQ_MbiodvNY4"
      },
      "execution_count": 182,
      "outputs": []
    },
    {
      "cell_type": "code",
      "source": [
        "draw_dot(L)"
      ],
      "metadata": {
        "colab": {
          "base_uri": "https://localhost:8080/",
          "height": 321
        },
        "id": "dPhXuQF92kFb",
        "outputId": "3378dd58-d706-4887-dcee-81380015b784"
      },
      "execution_count": 183,
      "outputs": [
        {
          "output_type": "execute_result",
          "data": {
            "text/plain": [
              "<graphviz.dot.Digraph at 0x7f127648f640>"
            ],
            "image/svg+xml": "<?xml version=\"1.0\" encoding=\"UTF-8\" standalone=\"no\"?>\n<!DOCTYPE svg PUBLIC \"-//W3C//DTD SVG 1.1//EN\"\n \"http://www.w3.org/Graphics/SVG/1.1/DTD/svg11.dtd\">\n<!-- Generated by graphviz version 2.43.0 (0)\n -->\n<!-- Title: %3 Pages: 1 -->\n<svg width=\"1162pt\" height=\"210pt\"\n viewBox=\"0.00 0.00 1162.00 210.00\" xmlns=\"http://www.w3.org/2000/svg\" xmlns:xlink=\"http://www.w3.org/1999/xlink\">\n<g id=\"graph0\" class=\"graph\" transform=\"scale(1 1) rotate(0) translate(4 206)\">\n<title>%3</title>\n<polygon fill=\"white\" stroke=\"transparent\" points=\"-4,4 -4,-206 1158,-206 1158,4 -4,4\"/>\n<!-- 139717269780512 -->\n<g id=\"node1\" class=\"node\">\n<title>139717269780512</title>\n<polygon fill=\"none\" stroke=\"black\" points=\"960,-109.5 960,-145.5 1154,-145.5 1154,-109.5 960,-109.5\"/>\n<text text-anchor=\"middle\" x=\"972.5\" y=\"-123.8\" font-family=\"Times,serif\" font-size=\"14.00\">L</text>\n<polyline fill=\"none\" stroke=\"black\" points=\"985,-109.5 985,-145.5 \"/>\n<text text-anchor=\"middle\" x=\"1028.5\" y=\"-123.8\" font-family=\"Times,serif\" font-size=\"14.00\">data 54.0000</text>\n<polyline fill=\"none\" stroke=\"black\" points=\"1072,-109.5 1072,-145.5 \"/>\n<text text-anchor=\"middle\" x=\"1113\" y=\"-123.8\" font-family=\"Times,serif\" font-size=\"14.00\">grad 0.0000</text>\n</g>\n<!-- 139717269780512* -->\n<g id=\"node2\" class=\"node\">\n<title>139717269780512*</title>\n<ellipse fill=\"none\" stroke=\"black\" cx=\"897\" cy=\"-127.5\" rx=\"27\" ry=\"18\"/>\n<text text-anchor=\"middle\" x=\"897\" y=\"-123.8\" font-family=\"Times,serif\" font-size=\"14.00\">*</text>\n</g>\n<!-- 139717269780512*&#45;&gt;139717269780512 -->\n<g id=\"edge1\" class=\"edge\">\n<title>139717269780512*&#45;&gt;139717269780512</title>\n<path fill=\"none\" stroke=\"black\" d=\"M924.09,-127.5C931.62,-127.5 940.34,-127.5 949.63,-127.5\"/>\n<polygon fill=\"black\" stroke=\"black\" points=\"949.92,-131 959.92,-127.5 949.92,-124 949.92,-131\"/>\n</g>\n<!-- 139717270493744 -->\n<g id=\"node3\" class=\"node\">\n<title>139717270493744</title>\n<polygon fill=\"none\" stroke=\"black\" points=\"0,-165.5 0,-201.5 195,-201.5 195,-165.5 0,-165.5\"/>\n<text text-anchor=\"middle\" x=\"16.5\" y=\"-179.8\" font-family=\"Times,serif\" font-size=\"14.00\">w1</text>\n<polyline fill=\"none\" stroke=\"black\" points=\"33,-165.5 33,-201.5 \"/>\n<text text-anchor=\"middle\" x=\"73\" y=\"-179.8\" font-family=\"Times,serif\" font-size=\"14.00\">data 4.0000</text>\n<polyline fill=\"none\" stroke=\"black\" points=\"113,-165.5 113,-201.5 \"/>\n<text text-anchor=\"middle\" x=\"154\" y=\"-179.8\" font-family=\"Times,serif\" font-size=\"14.00\">grad 0.0000</text>\n</g>\n<!-- 139717270492256* -->\n<g id=\"node7\" class=\"node\">\n<title>139717270492256*</title>\n<ellipse fill=\"none\" stroke=\"black\" cx=\"258\" cy=\"-128.5\" rx=\"27\" ry=\"18\"/>\n<text text-anchor=\"middle\" x=\"258\" y=\"-124.8\" font-family=\"Times,serif\" font-size=\"14.00\">*</text>\n</g>\n<!-- 139717270493744&#45;&gt;139717270492256* -->\n<g id=\"edge10\" class=\"edge\">\n<title>139717270493744&#45;&gt;139717270492256*</title>\n<path fill=\"none\" stroke=\"black\" d=\"M167.96,-165.43C177.12,-162.65 186.33,-159.65 195,-156.5 205.52,-152.68 216.74,-147.85 226.7,-143.29\"/>\n<polygon fill=\"black\" stroke=\"black\" points=\"228.23,-146.44 235.81,-139.03 225.27,-140.09 228.23,-146.44\"/>\n</g>\n<!-- 139717270427200 -->\n<g id=\"node4\" class=\"node\">\n<title>139717270427200</title>\n<polygon fill=\"none\" stroke=\"black\" points=\"0,-55.5 0,-91.5 195,-91.5 195,-55.5 0,-55.5\"/>\n<text text-anchor=\"middle\" x=\"16.5\" y=\"-69.8\" font-family=\"Times,serif\" font-size=\"14.00\">w2</text>\n<polyline fill=\"none\" stroke=\"black\" points=\"33,-55.5 33,-91.5 \"/>\n<text text-anchor=\"middle\" x=\"73\" y=\"-69.8\" font-family=\"Times,serif\" font-size=\"14.00\">data 3.0000</text>\n<polyline fill=\"none\" stroke=\"black\" points=\"113,-55.5 113,-91.5 \"/>\n<text text-anchor=\"middle\" x=\"154\" y=\"-69.8\" font-family=\"Times,serif\" font-size=\"14.00\">grad 0.0000</text>\n</g>\n<!-- 139717270495088* -->\n<g id=\"node11\" class=\"node\">\n<title>139717270495088*</title>\n<ellipse fill=\"none\" stroke=\"black\" cx=\"258\" cy=\"-73.5\" rx=\"27\" ry=\"18\"/>\n<text text-anchor=\"middle\" x=\"258\" y=\"-69.8\" font-family=\"Times,serif\" font-size=\"14.00\">*</text>\n</g>\n<!-- 139717270427200&#45;&gt;139717270495088* -->\n<g id=\"edge6\" class=\"edge\">\n<title>139717270427200&#45;&gt;139717270495088*</title>\n<path fill=\"none\" stroke=\"black\" d=\"M195.27,-73.5C204.22,-73.5 212.85,-73.5 220.69,-73.5\"/>\n<polygon fill=\"black\" stroke=\"black\" points=\"220.83,-77 230.83,-73.5 220.83,-70 220.83,-77\"/>\n</g>\n<!-- 139717270493264 -->\n<g id=\"node5\" class=\"node\">\n<title>139717270493264</title>\n<polygon fill=\"none\" stroke=\"black\" points=\"5,-110.5 5,-146.5 190,-146.5 190,-110.5 5,-110.5\"/>\n<text text-anchor=\"middle\" x=\"16.5\" y=\"-124.8\" font-family=\"Times,serif\" font-size=\"14.00\">a</text>\n<polyline fill=\"none\" stroke=\"black\" points=\"28,-110.5 28,-146.5 \"/>\n<text text-anchor=\"middle\" x=\"68\" y=\"-124.8\" font-family=\"Times,serif\" font-size=\"14.00\">data 3.0000</text>\n<polyline fill=\"none\" stroke=\"black\" points=\"108,-110.5 108,-146.5 \"/>\n<text text-anchor=\"middle\" x=\"149\" y=\"-124.8\" font-family=\"Times,serif\" font-size=\"14.00\">grad 0.0000</text>\n</g>\n<!-- 139717270493264&#45;&gt;139717270492256* -->\n<g id=\"edge8\" class=\"edge\">\n<title>139717270493264&#45;&gt;139717270492256*</title>\n<path fill=\"none\" stroke=\"black\" d=\"M190.24,-128.5C200.87,-128.5 211.19,-128.5 220.41,-128.5\"/>\n<polygon fill=\"black\" stroke=\"black\" points=\"220.69,-132 230.69,-128.5 220.69,-125 220.69,-132\"/>\n</g>\n<!-- 139717270492256 -->\n<g id=\"node6\" class=\"node\">\n<title>139717270492256</title>\n<polygon fill=\"none\" stroke=\"black\" points=\"321,-110.5 321,-146.5 513,-146.5 513,-110.5 321,-110.5\"/>\n<text text-anchor=\"middle\" x=\"332.5\" y=\"-124.8\" font-family=\"Times,serif\" font-size=\"14.00\">x</text>\n<polyline fill=\"none\" stroke=\"black\" points=\"344,-110.5 344,-146.5 \"/>\n<text text-anchor=\"middle\" x=\"387.5\" y=\"-124.8\" font-family=\"Times,serif\" font-size=\"14.00\">data 12.0000</text>\n<polyline fill=\"none\" stroke=\"black\" points=\"431,-110.5 431,-146.5 \"/>\n<text text-anchor=\"middle\" x=\"472\" y=\"-124.8\" font-family=\"Times,serif\" font-size=\"14.00\">grad 0.0000</text>\n</g>\n<!-- 139717270495184+ -->\n<g id=\"node13\" class=\"node\">\n<title>139717270495184+</title>\n<ellipse fill=\"none\" stroke=\"black\" cx=\"576\" cy=\"-100.5\" rx=\"27\" ry=\"18\"/>\n<text text-anchor=\"middle\" x=\"576\" y=\"-96.8\" font-family=\"Times,serif\" font-size=\"14.00\">+</text>\n</g>\n<!-- 139717270492256&#45;&gt;139717270495184+ -->\n<g id=\"edge7\" class=\"edge\">\n<title>139717270492256&#45;&gt;139717270495184+</title>\n<path fill=\"none\" stroke=\"black\" d=\"M513.4,-111.49C522.69,-109.83 531.64,-108.23 539.71,-106.79\"/>\n<polygon fill=\"black\" stroke=\"black\" points=\"540.53,-110.2 549.76,-105 539.31,-103.31 540.53,-110.2\"/>\n</g>\n<!-- 139717270492256*&#45;&gt;139717270492256 -->\n<g id=\"edge2\" class=\"edge\">\n<title>139717270492256*&#45;&gt;139717270492256</title>\n<path fill=\"none\" stroke=\"black\" d=\"M285.28,-128.5C292.78,-128.5 301.44,-128.5 310.67,-128.5\"/>\n<polygon fill=\"black\" stroke=\"black\" points=\"310.87,-132 320.87,-128.5 310.87,-125 310.87,-132\"/>\n</g>\n<!-- 139717270493792 -->\n<g id=\"node8\" class=\"node\">\n<title>139717270493792</title>\n<polygon fill=\"none\" stroke=\"black\" points=\"639,-137.5 639,-173.5 834,-173.5 834,-137.5 639,-137.5\"/>\n<text text-anchor=\"middle\" x=\"655.5\" y=\"-151.8\" font-family=\"Times,serif\" font-size=\"14.00\">w3</text>\n<polyline fill=\"none\" stroke=\"black\" points=\"672,-137.5 672,-173.5 \"/>\n<text text-anchor=\"middle\" x=\"712\" y=\"-151.8\" font-family=\"Times,serif\" font-size=\"14.00\">data 2.0000</text>\n<polyline fill=\"none\" stroke=\"black\" points=\"752,-137.5 752,-173.5 \"/>\n<text text-anchor=\"middle\" x=\"793\" y=\"-151.8\" font-family=\"Times,serif\" font-size=\"14.00\">grad 0.0000</text>\n</g>\n<!-- 139717270493792&#45;&gt;139717269780512* -->\n<g id=\"edge9\" class=\"edge\">\n<title>139717270493792&#45;&gt;139717269780512*</title>\n<path fill=\"none\" stroke=\"black\" d=\"M834.27,-138.41C843.59,-136.76 852.57,-135.17 860.66,-133.74\"/>\n<polygon fill=\"black\" stroke=\"black\" points=\"861.49,-137.15 870.73,-131.96 860.28,-130.26 861.49,-137.15\"/>\n</g>\n<!-- 139717270426288 -->\n<g id=\"node9\" class=\"node\">\n<title>139717270426288</title>\n<polygon fill=\"none\" stroke=\"black\" points=\"5,-0.5 5,-36.5 190,-36.5 190,-0.5 5,-0.5\"/>\n<text text-anchor=\"middle\" x=\"16.5\" y=\"-14.8\" font-family=\"Times,serif\" font-size=\"14.00\">b</text>\n<polyline fill=\"none\" stroke=\"black\" points=\"28,-0.5 28,-36.5 \"/>\n<text text-anchor=\"middle\" x=\"68\" y=\"-14.8\" font-family=\"Times,serif\" font-size=\"14.00\">data 5.0000</text>\n<polyline fill=\"none\" stroke=\"black\" points=\"108,-0.5 108,-36.5 \"/>\n<text text-anchor=\"middle\" x=\"149\" y=\"-14.8\" font-family=\"Times,serif\" font-size=\"14.00\">grad 0.0000</text>\n</g>\n<!-- 139717270426288&#45;&gt;139717270495088* -->\n<g id=\"edge5\" class=\"edge\">\n<title>139717270426288&#45;&gt;139717270495088*</title>\n<path fill=\"none\" stroke=\"black\" d=\"M164.79,-36.51C174.98,-39.63 185.32,-43 195,-46.5 205.27,-50.21 216.26,-54.79 226.09,-59.11\"/>\n<polygon fill=\"black\" stroke=\"black\" points=\"224.91,-62.42 235.47,-63.31 227.77,-56.03 224.91,-62.42\"/>\n</g>\n<!-- 139717270495088 -->\n<g id=\"node10\" class=\"node\">\n<title>139717270495088</title>\n<polygon fill=\"none\" stroke=\"black\" points=\"321,-55.5 321,-91.5 513,-91.5 513,-55.5 321,-55.5\"/>\n<text text-anchor=\"middle\" x=\"332.5\" y=\"-69.8\" font-family=\"Times,serif\" font-size=\"14.00\">y</text>\n<polyline fill=\"none\" stroke=\"black\" points=\"344,-55.5 344,-91.5 \"/>\n<text text-anchor=\"middle\" x=\"387.5\" y=\"-69.8\" font-family=\"Times,serif\" font-size=\"14.00\">data 15.0000</text>\n<polyline fill=\"none\" stroke=\"black\" points=\"431,-55.5 431,-91.5 \"/>\n<text text-anchor=\"middle\" x=\"472\" y=\"-69.8\" font-family=\"Times,serif\" font-size=\"14.00\">grad 0.0000</text>\n</g>\n<!-- 139717270495088&#45;&gt;139717270495184+ -->\n<g id=\"edge12\" class=\"edge\">\n<title>139717270495088&#45;&gt;139717270495184+</title>\n<path fill=\"none\" stroke=\"black\" d=\"M513.4,-89.91C522.69,-91.5 531.64,-93.04 539.71,-94.43\"/>\n<polygon fill=\"black\" stroke=\"black\" points=\"539.32,-97.91 549.76,-96.16 540.5,-91.02 539.32,-97.91\"/>\n</g>\n<!-- 139717270495088*&#45;&gt;139717270495088 -->\n<g id=\"edge3\" class=\"edge\">\n<title>139717270495088*&#45;&gt;139717270495088</title>\n<path fill=\"none\" stroke=\"black\" d=\"M285.28,-73.5C292.78,-73.5 301.44,-73.5 310.67,-73.5\"/>\n<polygon fill=\"black\" stroke=\"black\" points=\"310.87,-77 320.87,-73.5 310.87,-70 310.87,-77\"/>\n</g>\n<!-- 139717270495184 -->\n<g id=\"node12\" class=\"node\">\n<title>139717270495184</title>\n<polygon fill=\"none\" stroke=\"black\" points=\"640.5,-82.5 640.5,-118.5 832.5,-118.5 832.5,-82.5 640.5,-82.5\"/>\n<text text-anchor=\"middle\" x=\"652\" y=\"-96.8\" font-family=\"Times,serif\" font-size=\"14.00\">c</text>\n<polyline fill=\"none\" stroke=\"black\" points=\"663.5,-82.5 663.5,-118.5 \"/>\n<text text-anchor=\"middle\" x=\"707\" y=\"-96.8\" font-family=\"Times,serif\" font-size=\"14.00\">data 27.0000</text>\n<polyline fill=\"none\" stroke=\"black\" points=\"750.5,-82.5 750.5,-118.5 \"/>\n<text text-anchor=\"middle\" x=\"791.5\" y=\"-96.8\" font-family=\"Times,serif\" font-size=\"14.00\">grad 0.0000</text>\n</g>\n<!-- 139717270495184&#45;&gt;139717269780512* -->\n<g id=\"edge11\" class=\"edge\">\n<title>139717270495184&#45;&gt;139717269780512*</title>\n<path fill=\"none\" stroke=\"black\" d=\"M832.9,-116.75C842.78,-118.43 852.31,-120.06 860.85,-121.51\"/>\n<polygon fill=\"black\" stroke=\"black\" points=\"860.27,-124.96 870.71,-123.19 861.44,-118.06 860.27,-124.96\"/>\n</g>\n<!-- 139717270495184+&#45;&gt;139717270495184 -->\n<g id=\"edge4\" class=\"edge\">\n<title>139717270495184+&#45;&gt;139717270495184</title>\n<path fill=\"none\" stroke=\"black\" d=\"M603.17,-100.5C611.15,-100.5 620.46,-100.5 630.38,-100.5\"/>\n<polygon fill=\"black\" stroke=\"black\" points=\"630.47,-104 640.47,-100.5 630.47,-97 630.47,-104\"/>\n</g>\n</g>\n</svg>\n"
          },
          "metadata": {},
          "execution_count": 183
        }
      ]
    },
    {
      "cell_type": "code",
      "source": [
        "L.backward()\n",
        "draw_dot(L)"
      ],
      "metadata": {
        "colab": {
          "base_uri": "https://localhost:8080/",
          "height": 321
        },
        "id": "mjC9XzF22mxN",
        "outputId": "71a4f449-cf0c-436d-953e-022bb2270d19"
      },
      "execution_count": 184,
      "outputs": [
        {
          "output_type": "execute_result",
          "data": {
            "text/plain": [
              "<graphviz.dot.Digraph at 0x7f127648f0d0>"
            ],
            "image/svg+xml": "<?xml version=\"1.0\" encoding=\"UTF-8\" standalone=\"no\"?>\n<!DOCTYPE svg PUBLIC \"-//W3C//DTD SVG 1.1//EN\"\n \"http://www.w3.org/Graphics/SVG/1.1/DTD/svg11.dtd\">\n<!-- Generated by graphviz version 2.43.0 (0)\n -->\n<!-- Title: %3 Pages: 1 -->\n<svg width=\"1176pt\" height=\"210pt\"\n viewBox=\"0.00 0.00 1176.00 210.00\" xmlns=\"http://www.w3.org/2000/svg\" xmlns:xlink=\"http://www.w3.org/1999/xlink\">\n<g id=\"graph0\" class=\"graph\" transform=\"scale(1 1) rotate(0) translate(4 206)\">\n<title>%3</title>\n<polygon fill=\"white\" stroke=\"transparent\" points=\"-4,4 -4,-206 1172,-206 1172,4 -4,4\"/>\n<!-- 139717269780512 -->\n<g id=\"node1\" class=\"node\">\n<title>139717269780512</title>\n<polygon fill=\"none\" stroke=\"black\" points=\"974,-109.5 974,-145.5 1168,-145.5 1168,-109.5 974,-109.5\"/>\n<text text-anchor=\"middle\" x=\"986.5\" y=\"-123.8\" font-family=\"Times,serif\" font-size=\"14.00\">L</text>\n<polyline fill=\"none\" stroke=\"black\" points=\"999,-109.5 999,-145.5 \"/>\n<text text-anchor=\"middle\" x=\"1042.5\" y=\"-123.8\" font-family=\"Times,serif\" font-size=\"14.00\">data 54.0000</text>\n<polyline fill=\"none\" stroke=\"black\" points=\"1086,-109.5 1086,-145.5 \"/>\n<text text-anchor=\"middle\" x=\"1127\" y=\"-123.8\" font-family=\"Times,serif\" font-size=\"14.00\">grad 1.0000</text>\n</g>\n<!-- 139717269780512* -->\n<g id=\"node2\" class=\"node\">\n<title>139717269780512*</title>\n<ellipse fill=\"none\" stroke=\"black\" cx=\"911\" cy=\"-127.5\" rx=\"27\" ry=\"18\"/>\n<text text-anchor=\"middle\" x=\"911\" y=\"-123.8\" font-family=\"Times,serif\" font-size=\"14.00\">*</text>\n</g>\n<!-- 139717269780512*&#45;&gt;139717269780512 -->\n<g id=\"edge1\" class=\"edge\">\n<title>139717269780512*&#45;&gt;139717269780512</title>\n<path fill=\"none\" stroke=\"black\" d=\"M938.09,-127.5C945.62,-127.5 954.34,-127.5 963.63,-127.5\"/>\n<polygon fill=\"black\" stroke=\"black\" points=\"963.92,-131 973.92,-127.5 963.92,-124 963.92,-131\"/>\n</g>\n<!-- 139717270493744 -->\n<g id=\"node3\" class=\"node\">\n<title>139717270493744</title>\n<polygon fill=\"none\" stroke=\"black\" points=\"3.5,-165.5 3.5,-201.5 198.5,-201.5 198.5,-165.5 3.5,-165.5\"/>\n<text text-anchor=\"middle\" x=\"20\" y=\"-179.8\" font-family=\"Times,serif\" font-size=\"14.00\">w1</text>\n<polyline fill=\"none\" stroke=\"black\" points=\"36.5,-165.5 36.5,-201.5 \"/>\n<text text-anchor=\"middle\" x=\"76.5\" y=\"-179.8\" font-family=\"Times,serif\" font-size=\"14.00\">data 4.0000</text>\n<polyline fill=\"none\" stroke=\"black\" points=\"116.5,-165.5 116.5,-201.5 \"/>\n<text text-anchor=\"middle\" x=\"157.5\" y=\"-179.8\" font-family=\"Times,serif\" font-size=\"14.00\">grad 6.0000</text>\n</g>\n<!-- 139717270492256* -->\n<g id=\"node7\" class=\"node\">\n<title>139717270492256*</title>\n<ellipse fill=\"none\" stroke=\"black\" cx=\"265\" cy=\"-128.5\" rx=\"27\" ry=\"18\"/>\n<text text-anchor=\"middle\" x=\"265\" y=\"-124.8\" font-family=\"Times,serif\" font-size=\"14.00\">*</text>\n</g>\n<!-- 139717270493744&#45;&gt;139717270492256* -->\n<g id=\"edge10\" class=\"edge\">\n<title>139717270493744&#45;&gt;139717270492256*</title>\n<path fill=\"none\" stroke=\"black\" d=\"M174.26,-165.48C183.66,-162.7 193.11,-159.68 202,-156.5 212.53,-152.73 223.76,-147.91 233.72,-143.34\"/>\n<polygon fill=\"black\" stroke=\"black\" points=\"235.26,-146.49 242.83,-139.08 232.29,-140.15 235.26,-146.49\"/>\n</g>\n<!-- 139717270427200 -->\n<g id=\"node4\" class=\"node\">\n<title>139717270427200</title>\n<polygon fill=\"none\" stroke=\"black\" points=\"0,-55.5 0,-91.5 202,-91.5 202,-55.5 0,-55.5\"/>\n<text text-anchor=\"middle\" x=\"16.5\" y=\"-69.8\" font-family=\"Times,serif\" font-size=\"14.00\">w2</text>\n<polyline fill=\"none\" stroke=\"black\" points=\"33,-55.5 33,-91.5 \"/>\n<text text-anchor=\"middle\" x=\"73\" y=\"-69.8\" font-family=\"Times,serif\" font-size=\"14.00\">data 3.0000</text>\n<polyline fill=\"none\" stroke=\"black\" points=\"113,-55.5 113,-91.5 \"/>\n<text text-anchor=\"middle\" x=\"157.5\" y=\"-69.8\" font-family=\"Times,serif\" font-size=\"14.00\">grad 10.0000</text>\n</g>\n<!-- 139717270495088* -->\n<g id=\"node11\" class=\"node\">\n<title>139717270495088*</title>\n<ellipse fill=\"none\" stroke=\"black\" cx=\"265\" cy=\"-73.5\" rx=\"27\" ry=\"18\"/>\n<text text-anchor=\"middle\" x=\"265\" y=\"-69.8\" font-family=\"Times,serif\" font-size=\"14.00\">*</text>\n</g>\n<!-- 139717270427200&#45;&gt;139717270495088* -->\n<g id=\"edge6\" class=\"edge\">\n<title>139717270427200&#45;&gt;139717270495088*</title>\n<path fill=\"none\" stroke=\"black\" d=\"M202.29,-73.5C211.28,-73.5 219.93,-73.5 227.77,-73.5\"/>\n<polygon fill=\"black\" stroke=\"black\" points=\"227.91,-77 237.91,-73.5 227.91,-70 227.91,-77\"/>\n</g>\n<!-- 139717270493264 -->\n<g id=\"node5\" class=\"node\">\n<title>139717270493264</title>\n<polygon fill=\"none\" stroke=\"black\" points=\"8.5,-110.5 8.5,-146.5 193.5,-146.5 193.5,-110.5 8.5,-110.5\"/>\n<text text-anchor=\"middle\" x=\"20\" y=\"-124.8\" font-family=\"Times,serif\" font-size=\"14.00\">a</text>\n<polyline fill=\"none\" stroke=\"black\" points=\"31.5,-110.5 31.5,-146.5 \"/>\n<text text-anchor=\"middle\" x=\"71.5\" y=\"-124.8\" font-family=\"Times,serif\" font-size=\"14.00\">data 3.0000</text>\n<polyline fill=\"none\" stroke=\"black\" points=\"111.5,-110.5 111.5,-146.5 \"/>\n<text text-anchor=\"middle\" x=\"152.5\" y=\"-124.8\" font-family=\"Times,serif\" font-size=\"14.00\">grad 8.0000</text>\n</g>\n<!-- 139717270493264&#45;&gt;139717270492256* -->\n<g id=\"edge8\" class=\"edge\">\n<title>139717270493264&#45;&gt;139717270492256*</title>\n<path fill=\"none\" stroke=\"black\" d=\"M193.89,-128.5C205.87,-128.5 217.52,-128.5 227.78,-128.5\"/>\n<polygon fill=\"black\" stroke=\"black\" points=\"227.92,-132 237.92,-128.5 227.92,-125 227.92,-132\"/>\n</g>\n<!-- 139717270492256 -->\n<g id=\"node6\" class=\"node\">\n<title>139717270492256</title>\n<polygon fill=\"none\" stroke=\"black\" points=\"328,-110.5 328,-146.5 520,-146.5 520,-110.5 328,-110.5\"/>\n<text text-anchor=\"middle\" x=\"339.5\" y=\"-124.8\" font-family=\"Times,serif\" font-size=\"14.00\">x</text>\n<polyline fill=\"none\" stroke=\"black\" points=\"351,-110.5 351,-146.5 \"/>\n<text text-anchor=\"middle\" x=\"394.5\" y=\"-124.8\" font-family=\"Times,serif\" font-size=\"14.00\">data 12.0000</text>\n<polyline fill=\"none\" stroke=\"black\" points=\"438,-110.5 438,-146.5 \"/>\n<text text-anchor=\"middle\" x=\"479\" y=\"-124.8\" font-family=\"Times,serif\" font-size=\"14.00\">grad 2.0000</text>\n</g>\n<!-- 139717270495184+ -->\n<g id=\"node13\" class=\"node\">\n<title>139717270495184+</title>\n<ellipse fill=\"none\" stroke=\"black\" cx=\"583\" cy=\"-100.5\" rx=\"27\" ry=\"18\"/>\n<text text-anchor=\"middle\" x=\"583\" y=\"-96.8\" font-family=\"Times,serif\" font-size=\"14.00\">+</text>\n</g>\n<!-- 139717270492256&#45;&gt;139717270495184+ -->\n<g id=\"edge7\" class=\"edge\">\n<title>139717270492256&#45;&gt;139717270495184+</title>\n<path fill=\"none\" stroke=\"black\" d=\"M520.4,-111.49C529.69,-109.83 538.64,-108.23 546.71,-106.79\"/>\n<polygon fill=\"black\" stroke=\"black\" points=\"547.53,-110.2 556.76,-105 546.31,-103.31 547.53,-110.2\"/>\n</g>\n<!-- 139717270492256*&#45;&gt;139717270492256 -->\n<g id=\"edge2\" class=\"edge\">\n<title>139717270492256*&#45;&gt;139717270492256</title>\n<path fill=\"none\" stroke=\"black\" d=\"M292.28,-128.5C299.78,-128.5 308.44,-128.5 317.67,-128.5\"/>\n<polygon fill=\"black\" stroke=\"black\" points=\"317.87,-132 327.87,-128.5 317.87,-125 317.87,-132\"/>\n</g>\n<!-- 139717270493792 -->\n<g id=\"node8\" class=\"node\">\n<title>139717270493792</title>\n<polygon fill=\"none\" stroke=\"black\" points=\"646,-137.5 646,-173.5 848,-173.5 848,-137.5 646,-137.5\"/>\n<text text-anchor=\"middle\" x=\"662.5\" y=\"-151.8\" font-family=\"Times,serif\" font-size=\"14.00\">w3</text>\n<polyline fill=\"none\" stroke=\"black\" points=\"679,-137.5 679,-173.5 \"/>\n<text text-anchor=\"middle\" x=\"719\" y=\"-151.8\" font-family=\"Times,serif\" font-size=\"14.00\">data 2.0000</text>\n<polyline fill=\"none\" stroke=\"black\" points=\"759,-137.5 759,-173.5 \"/>\n<text text-anchor=\"middle\" x=\"803.5\" y=\"-151.8\" font-family=\"Times,serif\" font-size=\"14.00\">grad 27.0000</text>\n</g>\n<!-- 139717270493792&#45;&gt;139717269780512* -->\n<g id=\"edge9\" class=\"edge\">\n<title>139717270493792&#45;&gt;139717269780512*</title>\n<path fill=\"none\" stroke=\"black\" d=\"M848.29,-138.17C857.56,-136.56 866.48,-135.02 874.51,-133.63\"/>\n<polygon fill=\"black\" stroke=\"black\" points=\"875.25,-137.06 884.51,-131.91 874.06,-130.16 875.25,-137.06\"/>\n</g>\n<!-- 139717270426288 -->\n<g id=\"node9\" class=\"node\">\n<title>139717270426288</title>\n<polygon fill=\"none\" stroke=\"black\" points=\"8.5,-0.5 8.5,-36.5 193.5,-36.5 193.5,-0.5 8.5,-0.5\"/>\n<text text-anchor=\"middle\" x=\"20\" y=\"-14.8\" font-family=\"Times,serif\" font-size=\"14.00\">b</text>\n<polyline fill=\"none\" stroke=\"black\" points=\"31.5,-0.5 31.5,-36.5 \"/>\n<text text-anchor=\"middle\" x=\"71.5\" y=\"-14.8\" font-family=\"Times,serif\" font-size=\"14.00\">data 5.0000</text>\n<polyline fill=\"none\" stroke=\"black\" points=\"111.5,-0.5 111.5,-36.5 \"/>\n<text text-anchor=\"middle\" x=\"152.5\" y=\"-14.8\" font-family=\"Times,serif\" font-size=\"14.00\">grad 6.0000</text>\n</g>\n<!-- 139717270426288&#45;&gt;139717270495088* -->\n<g id=\"edge5\" class=\"edge\">\n<title>139717270426288&#45;&gt;139717270495088*</title>\n<path fill=\"none\" stroke=\"black\" d=\"M171.25,-36.55C181.63,-39.64 192.15,-42.99 202,-46.5 212.29,-50.16 223.28,-54.72 233.11,-59.05\"/>\n<polygon fill=\"black\" stroke=\"black\" points=\"231.93,-62.36 242.49,-63.26 234.8,-55.97 231.93,-62.36\"/>\n</g>\n<!-- 139717270495088 -->\n<g id=\"node10\" class=\"node\">\n<title>139717270495088</title>\n<polygon fill=\"none\" stroke=\"black\" points=\"328,-55.5 328,-91.5 520,-91.5 520,-55.5 328,-55.5\"/>\n<text text-anchor=\"middle\" x=\"339.5\" y=\"-69.8\" font-family=\"Times,serif\" font-size=\"14.00\">y</text>\n<polyline fill=\"none\" stroke=\"black\" points=\"351,-55.5 351,-91.5 \"/>\n<text text-anchor=\"middle\" x=\"394.5\" y=\"-69.8\" font-family=\"Times,serif\" font-size=\"14.00\">data 15.0000</text>\n<polyline fill=\"none\" stroke=\"black\" points=\"438,-55.5 438,-91.5 \"/>\n<text text-anchor=\"middle\" x=\"479\" y=\"-69.8\" font-family=\"Times,serif\" font-size=\"14.00\">grad 2.0000</text>\n</g>\n<!-- 139717270495088&#45;&gt;139717270495184+ -->\n<g id=\"edge12\" class=\"edge\">\n<title>139717270495088&#45;&gt;139717270495184+</title>\n<path fill=\"none\" stroke=\"black\" d=\"M520.4,-89.91C529.69,-91.5 538.64,-93.04 546.71,-94.43\"/>\n<polygon fill=\"black\" stroke=\"black\" points=\"546.32,-97.91 556.76,-96.16 547.5,-91.02 546.32,-97.91\"/>\n</g>\n<!-- 139717270495088*&#45;&gt;139717270495088 -->\n<g id=\"edge3\" class=\"edge\">\n<title>139717270495088*&#45;&gt;139717270495088</title>\n<path fill=\"none\" stroke=\"black\" d=\"M292.28,-73.5C299.78,-73.5 308.44,-73.5 317.67,-73.5\"/>\n<polygon fill=\"black\" stroke=\"black\" points=\"317.87,-77 327.87,-73.5 317.87,-70 317.87,-77\"/>\n</g>\n<!-- 139717270495184 -->\n<g id=\"node12\" class=\"node\">\n<title>139717270495184</title>\n<polygon fill=\"none\" stroke=\"black\" points=\"651,-82.5 651,-118.5 843,-118.5 843,-82.5 651,-82.5\"/>\n<text text-anchor=\"middle\" x=\"662.5\" y=\"-96.8\" font-family=\"Times,serif\" font-size=\"14.00\">c</text>\n<polyline fill=\"none\" stroke=\"black\" points=\"674,-82.5 674,-118.5 \"/>\n<text text-anchor=\"middle\" x=\"717.5\" y=\"-96.8\" font-family=\"Times,serif\" font-size=\"14.00\">data 27.0000</text>\n<polyline fill=\"none\" stroke=\"black\" points=\"761,-82.5 761,-118.5 \"/>\n<text text-anchor=\"middle\" x=\"802\" y=\"-96.8\" font-family=\"Times,serif\" font-size=\"14.00\">grad 2.0000</text>\n</g>\n<!-- 139717270495184&#45;&gt;139717269780512* -->\n<g id=\"edge11\" class=\"edge\">\n<title>139717270495184&#45;&gt;139717269780512*</title>\n<path fill=\"none\" stroke=\"black\" d=\"M843.17,-116.36C854.28,-118.21 865.02,-120 874.53,-121.59\"/>\n<polygon fill=\"black\" stroke=\"black\" points=\"874.25,-125.09 884.68,-123.28 875.4,-118.18 874.25,-125.09\"/>\n</g>\n<!-- 139717270495184+&#45;&gt;139717270495184 -->\n<g id=\"edge4\" class=\"edge\">\n<title>139717270495184+&#45;&gt;139717270495184</title>\n<path fill=\"none\" stroke=\"black\" d=\"M610.03,-100.5C618.95,-100.5 629.56,-100.5 640.86,-100.5\"/>\n<polygon fill=\"black\" stroke=\"black\" points=\"640.94,-104 650.94,-100.5 640.94,-97 640.94,-104\"/>\n</g>\n</g>\n</svg>\n"
          },
          "metadata": {},
          "execution_count": 184
        }
      ]
    },
    {
      "cell_type": "code",
      "source": [],
      "metadata": {
        "id": "tWrw9al_2wCS"
      },
      "execution_count": null,
      "outputs": []
    },
    {
      "cell_type": "markdown",
      "source": [
        "## Outro\n",
        "\n",
        "If you are wondering why is this useful:\n",
        "\n",
        "In neural networks(machine learning in general) `L` is called the `loss-function` a metric that we want to reduce on the `training data`(a,b,c) while nudging the `weights`(w1,w2,w3) in the right direction(`gradient direction`)."
      ],
      "metadata": {
        "id": "NBD9fw1Y23k1"
      }
    },
    {
      "cell_type": "code",
      "source": [],
      "metadata": {
        "id": "PN7_YQKswZ1A"
      },
      "execution_count": null,
      "outputs": []
    },
    {
      "cell_type": "markdown",
      "source": [
        "Note: In python everything is a class. When you do a + b between two intergers it's internally calling __add__ function implemented inside an `integer` class. In this case a + b translates to `self.__add__(b)`."
      ],
      "metadata": {
        "id": "WIQ29WIW73c-"
      }
    },
    {
      "cell_type": "markdown",
      "source": [
        "1. Why its better to use cross-entropy than implement our own loss ?\n",
        "\n",
        "ans: \n",
        " - pytorch can internally fuse the operations thus more efficient. Also we are creating more intermediate memory(nodes) that are unnecssary\n",
        "\n",
        "- numerically stable (as softmax is same even if we add arbitrary number to each of the values). Thus pytorch internally subtracts the max-value.\n",
        "\n",
        "2. Why mini-batch gd is a good idea ?\n",
        "\n",
        "- doing more steps of approx gradient is better than doing accurate lower # steps.\n",
        "\n"
      ],
      "metadata": {
        "id": "yy98bxFp-Fcr"
      }
    },
    {
      "cell_type": "code",
      "source": [],
      "metadata": {
        "id": "El0vUmAI-U6-"
      },
      "execution_count": null,
      "outputs": []
    }
  ]
}