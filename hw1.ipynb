{
  "nbformat": 4,
  "nbformat_minor": 0,
  "metadata": {
    "colab": {
      "provenance": [],
      "authorship_tag": "ABX9TyOvOjHjuy/l+wrqc8ygp/fJ",
      "include_colab_link": true
    },
    "kernelspec": {
      "name": "python3",
      "display_name": "Python 3"
    },
    "language_info": {
      "name": "python"
    }
  },
  "cells": [
    {
      "cell_type": "markdown",
      "metadata": {
        "id": "view-in-github",
        "colab_type": "text"
      },
      "source": [
        "<a href=\"https://colab.research.google.com/github/vin136/NN-foundations/blob/main/hw1.ipynb\" target=\"_parent\"><img src=\"https://colab.research.google.com/assets/colab-badge.svg\" alt=\"Open In Colab\"/></a>"
      ]
    },
    {
      "cell_type": "markdown",
      "source": [
        "Homework 1\n",
        "\n",
        "Consider the following data with the prediction column being `Will_Buy_Car`. Using `Age`, `Gender`,`Car_Ownership` as input columns for a Decision tree, calculate the following :\n",
        "\n",
        "| Age | Gender | Car_Ownership | Will_Buy_Car |\n",
        "|-----|--------|--------------|--------------|\n",
        "|  50 |      M |          Yes |          Yes |\n",
        "|  50 |      M |           No |           No |\n",
        "|  50 |      M |          Yes |          Yes |\n",
        "|  30 |      M |           No |           No |\n",
        "|  30 |      M |          Yes |          Yes |\n",
        "|  10 |      M |           No |           No |\n",
        "|  10 |      M |           No |           No |\n",
        "|  10 |      M |          Yes |           No |\n",
        "\n",
        "\n",
        "Question 1 (20)\n",
        "\n",
        "- At root node, what is the Information Gain if we split by `Age`, `Gender`,`Car_Ownership` respectively ? Which column is used to make the first split ?\n",
        "\n",
        "\n",
        "- Once trained, What will be the output on a new sample with Age = 50, Car_Ownership = Yes ,Gender = M ? Can you train the same tree without Gender column , why or why not ?\n",
        "\n",
        "Question 2 (80)\n",
        "\n",
        "Complete the jupyter notebook (provide all your answers inside it)"
      ],
      "metadata": {
        "id": "Wno7Ai1agptk"
      }
    }
  ]
}